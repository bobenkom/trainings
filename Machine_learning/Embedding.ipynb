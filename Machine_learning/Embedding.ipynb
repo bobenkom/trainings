{
  "nbformat": 4,
  "nbformat_minor": 0,
  "metadata": {
    "colab": {
      "provenance": [],
      "collapsed_sections": []
    },
    "kernelspec": {
      "name": "python3",
      "display_name": "Python 3"
    },
    "language_info": {
      "name": "python"
    }
  },
  "cells": [
    {
      "cell_type": "code",
      "execution_count": null,
      "metadata": {
        "id": "S280ORJMSFms"
      },
      "outputs": [],
      "source": [
        "%%capture\n",
        "!pip install corus\n",
        "!pip install wget"
      ]
    },
    {
      "cell_type": "code",
      "source": [
        "%%capture\n",
        "!wget https://github.com/yutkin/Lenta.Ru-News-Dataset/releases/download/v1.0/lenta-ru-news.csv.gz"
      ],
      "metadata": {
        "id": "o77QzAkSSGNX"
      },
      "execution_count": null,
      "outputs": []
    },
    {
      "cell_type": "code",
      "source": [
        "#считываем скаченные ранее файл с новостями Лента.Ру\n",
        "from corus import load_lenta\n",
        "path = 'lenta-ru-news.csv.gz'\n",
        "records = load_lenta(path)"
      ],
      "metadata": {
        "id": "yU1ZGluGSGSA"
      },
      "execution_count": null,
      "outputs": []
    },
    {
      "cell_type": "markdown",
      "source": [
        "# №1 Извлечение данных (0.5 баллов)\n",
        "Вытащите новости с 10000-й до 15000-й (должно получиться 5000 новостей) и переведите их в pandas dataframe - назовём их **датасет**\n",
        "\n",
        "Из вытащенных новостей выберите новости j и  j+1, где j - ваш номер в списке группы. В дальнейшем будем называть эти новости **первой** и второй соответственно. Title перой новости - ответ на первое задание\n",
        "\n",
        "**обратите внимание, повторный запуск перебора методом next приводит к другому результату - записи выбираются не с начала генератора**\n",
        "\n"
      ],
      "metadata": {
        "id": "D0MtDGXmSGdU"
      }
    },
    {
      "cell_type": "code",
      "source": [
        "import numpy as np\n",
        "import pandas as pd"
      ],
      "metadata": {
        "id": "G2iVpPrTc5HE"
      },
      "execution_count": null,
      "outputs": []
    },
    {
      "cell_type": "code",
      "source": [
        "news_records = list()\n",
        "#Вытащите новости с 10000-й до 15000-й\n",
        "for i in range(10000, 15000, 1):\n",
        "  news_records.append(next(records))\n",
        "\n",
        "data = pd.DataFrame.from_records(news_records, columns = [\"url\", \"title\", \"text\", \"topic\", \"tags\", \"date\"])\n",
        "assert(data.shape == (5000, 6))\n",
        "\n",
        "j=8  # установите ваше значение j \n",
        "first_news = news_records[j]\n",
        "second_news = news_records[j+1]\n",
        "                          \n",
        "answer_1 = first_news.title\n",
        "answer_1"
      ],
      "metadata": {
        "id": "mDZ_bIjCSJsn",
        "colab": {
          "base_uri": "https://localhost:8080/",
          "height": 37
        },
        "outputId": "2161f53f-966f-4a7e-f7fe-c91375124772"
      },
      "execution_count": null,
      "outputs": [
        {
          "output_type": "execute_result",
          "data": {
            "text/plain": [
              "'Полет российских бомбардировщиков над Карибским морем сняли на\\xa0видео'"
            ],
            "application/vnd.google.colaboratory.intrinsic+json": {
              "type": "string"
            }
          },
          "metadata": {},
          "execution_count": 7
        }
      ]
    },
    {
      "cell_type": "code",
      "source": [
        "data = pd.DataFrame.from_records(news_records, columns = [\"url\", \"title\", \"text\", \"topic\", \"tags\", \"date\"])"
      ],
      "metadata": {
        "id": "BlTjHopFObFw"
      },
      "execution_count": null,
      "outputs": []
    },
    {
      "cell_type": "markdown",
      "source": [
        "# №2 Токенизация (1 балл)\n",
        "Разбейте ваш ответ из №1 на токены по словам при помощи nltk.tokenize.word_tokenize\n",
        "\n",
        "Ответ на это задание - 3-й токен"
      ],
      "metadata": {
        "id": "Pw6CqrYMVpre"
      }
    },
    {
      "cell_type": "code",
      "source": [
        "from nltk.tokenize import word_tokenize\n",
        "import nltk\n",
        "nltk.download('punkt')"
      ],
      "metadata": {
        "colab": {
          "base_uri": "https://localhost:8080/"
        },
        "id": "RcOOdLXaEe8v",
        "outputId": "48869c06-d0ed-4d9a-f7e0-b8d8780b21f0"
      },
      "execution_count": null,
      "outputs": [
        {
          "output_type": "stream",
          "name": "stderr",
          "text": [
            "[nltk_data] Downloading package punkt to /root/nltk_data...\n",
            "[nltk_data]   Unzipping tokenizers/punkt.zip.\n"
          ]
        },
        {
          "output_type": "execute_result",
          "data": {
            "text/plain": [
              "True"
            ]
          },
          "metadata": {},
          "execution_count": 9
        }
      ]
    },
    {
      "cell_type": "code",
      "source": [
        "# Разбейте ваш ответ из №1 на токены по словам при помощи nltk.tokenize.word_tokenize\n",
        "tokens = word_tokenize(answer_1)\n",
        "answer_2 = tokens[3]\n",
        "answer_2"
      ],
      "metadata": {
        "id": "XzVKw0MWVA6A",
        "colab": {
          "base_uri": "https://localhost:8080/",
          "height": 37
        },
        "outputId": "e0908149-a0ed-4001-9e9a-a066b5f1ff02"
      },
      "execution_count": null,
      "outputs": [
        {
          "output_type": "execute_result",
          "data": {
            "text/plain": [
              "'над'"
            ],
            "application/vnd.google.colaboratory.intrinsic+json": {
              "type": "string"
            }
          },
          "metadata": {},
          "execution_count": 10
        }
      ]
    },
    {
      "cell_type": "markdown",
      "source": [
        "# №3 Stemming (1 балл)\n",
        "К токену 1 из заголовка первой новости примените nltk.stem.snowball.SnowballStemmer - это ответ на третье задание\n"
      ],
      "metadata": {
        "id": "grUdrezcWja8"
      }
    },
    {
      "cell_type": "code",
      "source": [
        "from nltk.stem.snowball import SnowballStemmer\n",
        "stemmer = SnowballStemmer(\"russian\")"
      ],
      "metadata": {
        "id": "XPKH7qtRE67u"
      },
      "execution_count": null,
      "outputs": []
    },
    {
      "cell_type": "code",
      "source": [
        "# импортируем и создаём стэммер\n",
        "# ваш код тут\n",
        "answer_3 = stemmer.stem(tokens[1])\n",
        "answer_3"
      ],
      "metadata": {
        "colab": {
          "base_uri": "https://localhost:8080/",
          "height": 37
        },
        "id": "4mW9M6bUFBfX",
        "outputId": "3306c949-d97f-47a9-b139-a978edba82f4"
      },
      "execution_count": null,
      "outputs": [
        {
          "output_type": "execute_result",
          "data": {
            "text/plain": [
              "'российск'"
            ],
            "application/vnd.google.colaboratory.intrinsic+json": {
              "type": "string"
            }
          },
          "metadata": {},
          "execution_count": 12
        }
      ]
    },
    {
      "cell_type": "markdown",
      "source": [
        "# №4 Лемматизация (1 балл)\n",
        "Примените лемматизацию из spacy (ru_core_news_sm) к тексту второй новости. Первое предложение второй новости в леммах - ответ на 4-е задание"
      ],
      "metadata": {
        "id": "yhfb4QdQY_-w"
      }
    },
    {
      "cell_type": "code",
      "source": [
        "%%capture\n",
        "!python -m spacy download ru_core_news_sm"
      ],
      "metadata": {
        "id": "Hdf7NgDAZEup"
      },
      "execution_count": null,
      "outputs": []
    },
    {
      "cell_type": "code",
      "source": [
        "import spacy\n",
        "\n",
        "nlp = spacy.load(\"ru_core_news_sm\")\n",
        "\n",
        "# Примените лемматизацию из spacy (ru_core_news_sm) к тексту второй новости. Первое предложение второй новости в леммах - ответ на 4-е задание\n",
        "#ваш код тут"
      ],
      "metadata": {
        "id": "ms5u_lEib9B7"
      },
      "execution_count": null,
      "outputs": []
    },
    {
      "cell_type": "code",
      "source": [
        "doc = nlp(second_news.text)\n",
        "tmp = ' '.join([token.lemma_ for token in doc])"
      ],
      "metadata": {
        "id": "wI1R87l8Fub_"
      },
      "execution_count": null,
      "outputs": []
    },
    {
      "cell_type": "code",
      "source": [
        "tmp.split(\".\")[0]"
      ],
      "metadata": {
        "colab": {
          "base_uri": "https://localhost:8080/",
          "height": 54
        },
        "id": "3Va_qIzJGFAl",
        "outputId": "371c3d02-28c6-45f0-fe32-bd993cd6bf20"
      },
      "execution_count": null,
      "outputs": [
        {
          "output_type": "execute_result",
          "data": {
            "text/plain": [
              "'директор завод \" электроприбор \" муталиба эмиралиева обвинить в уклонение от уплата налог и хищение бюджетный средство в общий сложность более чем на 70 миллион рубль '"
            ],
            "application/vnd.google.colaboratory.intrinsic+json": {
              "type": "string"
            }
          },
          "metadata": {},
          "execution_count": 17
        }
      ]
    },
    {
      "cell_type": "markdown",
      "source": [
        "# №5 TF-IDF (1 балл)\n",
        "При помощи sklearn.feature_extraction.text.TfidfVectorizer векторизуйте первые 20 предложений из датасета. Из полученого словаря, отсортированого по алфавиту, возьмите j-ий токен и посчитайте максимальное значение его tf-idf в этих 20 предложениях - это будет ответ на 5 задание \n"
      ],
      "metadata": {
        "id": "fTAE84eWd4AU"
      }
    },
    {
      "cell_type": "code",
      "source": [
        "data"
      ],
      "metadata": {
        "id": "-MIy9NpxHley"
      },
      "execution_count": null,
      "outputs": []
    },
    {
      "cell_type": "code",
      "source": [
        "from sklearn.feature_extraction.text import TfidfVectorizer"
      ],
      "metadata": {
        "id": "3sjsbpGCcA2r"
      },
      "execution_count": null,
      "outputs": []
    },
    {
      "cell_type": "code",
      "source": [
        "#создаём векторизатор\n",
        "tfidf_vectorizer = TfidfVectorizer()\n",
        "\n",
        "#ваш код тут\n",
        "\n",
        "tfidf_X_sparse = tfidf_vectorizer.fit_transform(data[\"text\"][:20])\n",
        "tfidf_X = tfidf_X_sparse.toarray()\n",
        "tfidf_tokens = tfidf_vectorizer.get_feature_names()\n",
        "\n",
        "# как теперь выглядят тексты\n",
        "df_tfidfvect = pd.DataFrame(data = tfidf_X,columns = tfidf_tokens)\n",
        "answer_5 = df_tfidfvect.max(axis=0)[j]\n",
        "answer_5"
      ],
      "metadata": {
        "id": "XwKi54nNeUaK",
        "colab": {
          "base_uri": "https://localhost:8080/"
        },
        "outputId": "95723e6b-7016-4c9e-95a8-7581c7ab5970"
      },
      "execution_count": null,
      "outputs": [
        {
          "output_type": "stream",
          "name": "stderr",
          "text": [
            "/usr/local/lib/python3.7/dist-packages/sklearn/utils/deprecation.py:87: FutureWarning: Function get_feature_names is deprecated; get_feature_names is deprecated in 1.0 and will be removed in 1.2. Please use get_feature_names_out instead.\n",
            "  warnings.warn(msg, category=FutureWarning)\n"
          ]
        },
        {
          "output_type": "execute_result",
          "data": {
            "text/plain": [
              "0.08363190910815281"
            ]
          },
          "metadata": {},
          "execution_count": 19
        }
      ]
    },
    {
      "cell_type": "markdown",
      "source": [
        "# №6 Эмбединги\n",
        "Большое задание из подпунктов"
      ],
      "metadata": {
        "id": "qfI-q_HsgdM2"
      }
    },
    {
      "cell_type": "markdown",
      "source": [
        "## 6.1 Токенизируйте по словам предложения из датасета любым способом. примените к ним стемминг или лематизацию (1.5 баллов)\n",
        "В качестве ответа приведите нулевой токен j-го предложения"
      ],
      "metadata": {
        "id": "BExS8J4KhWGr"
      }
    },
    {
      "cell_type": "code",
      "source": [
        "import re"
      ],
      "metadata": {
        "id": "2ttYPH0HK2k9"
      },
      "execution_count": null,
      "outputs": []
    },
    {
      "cell_type": "code",
      "source": [
        "def tokenize_by_words(txt):\n",
        "  return re.split(' |,|;|\\.|\\?|\\!',txt)\n",
        "\n",
        "data[\"text_tokens\"] = data[\"text\"].apply(tokenize_by_words)\n",
        "data.head()"
      ],
      "metadata": {
        "colab": {
          "base_uri": "https://localhost:8080/",
          "height": 523
        },
        "id": "8Wlgl0TlK0d2",
        "outputId": "dce3c29b-d11d-45b9-d673-20511cf31eed"
      },
      "execution_count": null,
      "outputs": [
        {
          "output_type": "execute_result",
          "data": {
            "text/plain": [
              "                                            url  \\\n",
              "0      https://lenta.ru/news/2018/12/14/cancer/   \n",
              "1      https://lenta.ru/news/2018/12/15/doping/   \n",
              "2  https://lenta.ru/news/2018/12/15/disneyland/   \n",
              "3       https://lenta.ru/news/2018/12/15/usa25/   \n",
              "4   https://lenta.ru/news/2018/12/15/integrity/   \n",
              "\n",
              "                                               title  \\\n",
              "0  Названы регионы России с самой высокой смертно...   \n",
              "1  Австрия не представила доказательств вины росс...   \n",
              "2       Обнаружено самое счастливое место на планете   \n",
              "3  В США раскрыли сумму расходов на расследование...   \n",
              "4  Хакеры рассказали о планах Великобритании зами...   \n",
              "\n",
              "                                                text        topic  \\\n",
              "0  Вице-премьер по социальным вопросам Татьяна Го...       Россия   \n",
              "1  Австрийские правоохранительные органы не предс...        Спорт   \n",
              "2  Сотрудники социальной сети Instagram проанализ...  Путешествия   \n",
              "3  С начала расследования российского вмешательст...          Мир   \n",
              "4  Хакерская группировка Anonymous опубликовала н...          Мир   \n",
              "\n",
              "          tags  date                                        text_tokens  \n",
              "0     Общество  None  [Вице-премьер, по, социальным, вопросам, Татья...  \n",
              "1  Зимние виды  None  [Австрийские, правоохранительные, органы, не, ...  \n",
              "2          Мир  None  [Сотрудники, социальной, сети, Instagram, проа...  \n",
              "3     Политика  None  [С, начала, расследования, российского, вмешат...  \n",
              "4     Общество  None  [Хакерская, группировка, Anonymous, опубликова...  "
            ],
            "text/html": [
              "\n",
              "  <div id=\"df-dea63b26-3a59-4086-93ea-ada0f8d1f7b3\">\n",
              "    <div class=\"colab-df-container\">\n",
              "      <div>\n",
              "<style scoped>\n",
              "    .dataframe tbody tr th:only-of-type {\n",
              "        vertical-align: middle;\n",
              "    }\n",
              "\n",
              "    .dataframe tbody tr th {\n",
              "        vertical-align: top;\n",
              "    }\n",
              "\n",
              "    .dataframe thead th {\n",
              "        text-align: right;\n",
              "    }\n",
              "</style>\n",
              "<table border=\"1\" class=\"dataframe\">\n",
              "  <thead>\n",
              "    <tr style=\"text-align: right;\">\n",
              "      <th></th>\n",
              "      <th>url</th>\n",
              "      <th>title</th>\n",
              "      <th>text</th>\n",
              "      <th>topic</th>\n",
              "      <th>tags</th>\n",
              "      <th>date</th>\n",
              "      <th>text_tokens</th>\n",
              "    </tr>\n",
              "  </thead>\n",
              "  <tbody>\n",
              "    <tr>\n",
              "      <th>0</th>\n",
              "      <td>https://lenta.ru/news/2018/12/14/cancer/</td>\n",
              "      <td>Названы регионы России с самой высокой смертно...</td>\n",
              "      <td>Вице-премьер по социальным вопросам Татьяна Го...</td>\n",
              "      <td>Россия</td>\n",
              "      <td>Общество</td>\n",
              "      <td>None</td>\n",
              "      <td>[Вице-премьер, по, социальным, вопросам, Татья...</td>\n",
              "    </tr>\n",
              "    <tr>\n",
              "      <th>1</th>\n",
              "      <td>https://lenta.ru/news/2018/12/15/doping/</td>\n",
              "      <td>Австрия не представила доказательств вины росс...</td>\n",
              "      <td>Австрийские правоохранительные органы не предс...</td>\n",
              "      <td>Спорт</td>\n",
              "      <td>Зимние виды</td>\n",
              "      <td>None</td>\n",
              "      <td>[Австрийские, правоохранительные, органы, не, ...</td>\n",
              "    </tr>\n",
              "    <tr>\n",
              "      <th>2</th>\n",
              "      <td>https://lenta.ru/news/2018/12/15/disneyland/</td>\n",
              "      <td>Обнаружено самое счастливое место на планете</td>\n",
              "      <td>Сотрудники социальной сети Instagram проанализ...</td>\n",
              "      <td>Путешествия</td>\n",
              "      <td>Мир</td>\n",
              "      <td>None</td>\n",
              "      <td>[Сотрудники, социальной, сети, Instagram, проа...</td>\n",
              "    </tr>\n",
              "    <tr>\n",
              "      <th>3</th>\n",
              "      <td>https://lenta.ru/news/2018/12/15/usa25/</td>\n",
              "      <td>В США раскрыли сумму расходов на расследование...</td>\n",
              "      <td>С начала расследования российского вмешательст...</td>\n",
              "      <td>Мир</td>\n",
              "      <td>Политика</td>\n",
              "      <td>None</td>\n",
              "      <td>[С, начала, расследования, российского, вмешат...</td>\n",
              "    </tr>\n",
              "    <tr>\n",
              "      <th>4</th>\n",
              "      <td>https://lenta.ru/news/2018/12/15/integrity/</td>\n",
              "      <td>Хакеры рассказали о планах Великобритании зами...</td>\n",
              "      <td>Хакерская группировка Anonymous опубликовала н...</td>\n",
              "      <td>Мир</td>\n",
              "      <td>Общество</td>\n",
              "      <td>None</td>\n",
              "      <td>[Хакерская, группировка, Anonymous, опубликова...</td>\n",
              "    </tr>\n",
              "  </tbody>\n",
              "</table>\n",
              "</div>\n",
              "      <button class=\"colab-df-convert\" onclick=\"convertToInteractive('df-dea63b26-3a59-4086-93ea-ada0f8d1f7b3')\"\n",
              "              title=\"Convert this dataframe to an interactive table.\"\n",
              "              style=\"display:none;\">\n",
              "        \n",
              "  <svg xmlns=\"http://www.w3.org/2000/svg\" height=\"24px\"viewBox=\"0 0 24 24\"\n",
              "       width=\"24px\">\n",
              "    <path d=\"M0 0h24v24H0V0z\" fill=\"none\"/>\n",
              "    <path d=\"M18.56 5.44l.94 2.06.94-2.06 2.06-.94-2.06-.94-.94-2.06-.94 2.06-2.06.94zm-11 1L8.5 8.5l.94-2.06 2.06-.94-2.06-.94L8.5 2.5l-.94 2.06-2.06.94zm10 10l.94 2.06.94-2.06 2.06-.94-2.06-.94-.94-2.06-.94 2.06-2.06.94z\"/><path d=\"M17.41 7.96l-1.37-1.37c-.4-.4-.92-.59-1.43-.59-.52 0-1.04.2-1.43.59L10.3 9.45l-7.72 7.72c-.78.78-.78 2.05 0 2.83L4 21.41c.39.39.9.59 1.41.59.51 0 1.02-.2 1.41-.59l7.78-7.78 2.81-2.81c.8-.78.8-2.07 0-2.86zM5.41 20L4 18.59l7.72-7.72 1.47 1.35L5.41 20z\"/>\n",
              "  </svg>\n",
              "      </button>\n",
              "      \n",
              "  <style>\n",
              "    .colab-df-container {\n",
              "      display:flex;\n",
              "      flex-wrap:wrap;\n",
              "      gap: 12px;\n",
              "    }\n",
              "\n",
              "    .colab-df-convert {\n",
              "      background-color: #E8F0FE;\n",
              "      border: none;\n",
              "      border-radius: 50%;\n",
              "      cursor: pointer;\n",
              "      display: none;\n",
              "      fill: #1967D2;\n",
              "      height: 32px;\n",
              "      padding: 0 0 0 0;\n",
              "      width: 32px;\n",
              "    }\n",
              "\n",
              "    .colab-df-convert:hover {\n",
              "      background-color: #E2EBFA;\n",
              "      box-shadow: 0px 1px 2px rgba(60, 64, 67, 0.3), 0px 1px 3px 1px rgba(60, 64, 67, 0.15);\n",
              "      fill: #174EA6;\n",
              "    }\n",
              "\n",
              "    [theme=dark] .colab-df-convert {\n",
              "      background-color: #3B4455;\n",
              "      fill: #D2E3FC;\n",
              "    }\n",
              "\n",
              "    [theme=dark] .colab-df-convert:hover {\n",
              "      background-color: #434B5C;\n",
              "      box-shadow: 0px 1px 3px 1px rgba(0, 0, 0, 0.15);\n",
              "      filter: drop-shadow(0px 1px 2px rgba(0, 0, 0, 0.3));\n",
              "      fill: #FFFFFF;\n",
              "    }\n",
              "  </style>\n",
              "\n",
              "      <script>\n",
              "        const buttonEl =\n",
              "          document.querySelector('#df-dea63b26-3a59-4086-93ea-ada0f8d1f7b3 button.colab-df-convert');\n",
              "        buttonEl.style.display =\n",
              "          google.colab.kernel.accessAllowed ? 'block' : 'none';\n",
              "\n",
              "        async function convertToInteractive(key) {\n",
              "          const element = document.querySelector('#df-dea63b26-3a59-4086-93ea-ada0f8d1f7b3');\n",
              "          const dataTable =\n",
              "            await google.colab.kernel.invokeFunction('convertToInteractive',\n",
              "                                                     [key], {});\n",
              "          if (!dataTable) return;\n",
              "\n",
              "          const docLinkHtml = 'Like what you see? Visit the ' +\n",
              "            '<a target=\"_blank\" href=https://colab.research.google.com/notebooks/data_table.ipynb>data table notebook</a>'\n",
              "            + ' to learn more about interactive tables.';\n",
              "          element.innerHTML = '';\n",
              "          dataTable['output_type'] = 'display_data';\n",
              "          await google.colab.output.renderOutput(dataTable, element);\n",
              "          const docLink = document.createElement('div');\n",
              "          docLink.innerHTML = docLinkHtml;\n",
              "          element.appendChild(docLink);\n",
              "        }\n",
              "      </script>\n",
              "    </div>\n",
              "  </div>\n",
              "  "
            ]
          },
          "metadata": {},
          "execution_count": 21
        }
      ]
    },
    {
      "cell_type": "code",
      "source": [
        "def tokens_to_lower(tokens):\n",
        "  for i in range(len(tokens)):\n",
        "    tokens[i] = tokens[i].lower()\n",
        "  return tokens\n",
        "\n",
        "data[\"text_tokens\"] = data[\"text_tokens\"].apply(tokens_to_lower)\n",
        "data.head()"
      ],
      "metadata": {
        "colab": {
          "base_uri": "https://localhost:8080/",
          "height": 523
        },
        "id": "MSaYP6MmLGPt",
        "outputId": "1acae7a1-bd59-41a4-a4c3-dfdaa69584c1"
      },
      "execution_count": null,
      "outputs": [
        {
          "output_type": "execute_result",
          "data": {
            "text/plain": [
              "                                            url  \\\n",
              "0      https://lenta.ru/news/2018/12/14/cancer/   \n",
              "1      https://lenta.ru/news/2018/12/15/doping/   \n",
              "2  https://lenta.ru/news/2018/12/15/disneyland/   \n",
              "3       https://lenta.ru/news/2018/12/15/usa25/   \n",
              "4   https://lenta.ru/news/2018/12/15/integrity/   \n",
              "\n",
              "                                               title  \\\n",
              "0  Названы регионы России с самой высокой смертно...   \n",
              "1  Австрия не представила доказательств вины росс...   \n",
              "2       Обнаружено самое счастливое место на планете   \n",
              "3  В США раскрыли сумму расходов на расследование...   \n",
              "4  Хакеры рассказали о планах Великобритании зами...   \n",
              "\n",
              "                                                text        topic  \\\n",
              "0  Вице-премьер по социальным вопросам Татьяна Го...       Россия   \n",
              "1  Австрийские правоохранительные органы не предс...        Спорт   \n",
              "2  Сотрудники социальной сети Instagram проанализ...  Путешествия   \n",
              "3  С начала расследования российского вмешательст...          Мир   \n",
              "4  Хакерская группировка Anonymous опубликовала н...          Мир   \n",
              "\n",
              "          tags  date                                        text_tokens  \n",
              "0     Общество  None  [вице-премьер, по, социальным, вопросам, татья...  \n",
              "1  Зимние виды  None  [австрийские, правоохранительные, органы, не, ...  \n",
              "2          Мир  None  [сотрудники, социальной, сети, instagram, проа...  \n",
              "3     Политика  None  [с, начала, расследования, российского, вмешат...  \n",
              "4     Общество  None  [хакерская, группировка, anonymous, опубликова...  "
            ],
            "text/html": [
              "\n",
              "  <div id=\"df-8c3f6bf5-6f8c-4053-bcf5-67b87d8c4194\">\n",
              "    <div class=\"colab-df-container\">\n",
              "      <div>\n",
              "<style scoped>\n",
              "    .dataframe tbody tr th:only-of-type {\n",
              "        vertical-align: middle;\n",
              "    }\n",
              "\n",
              "    .dataframe tbody tr th {\n",
              "        vertical-align: top;\n",
              "    }\n",
              "\n",
              "    .dataframe thead th {\n",
              "        text-align: right;\n",
              "    }\n",
              "</style>\n",
              "<table border=\"1\" class=\"dataframe\">\n",
              "  <thead>\n",
              "    <tr style=\"text-align: right;\">\n",
              "      <th></th>\n",
              "      <th>url</th>\n",
              "      <th>title</th>\n",
              "      <th>text</th>\n",
              "      <th>topic</th>\n",
              "      <th>tags</th>\n",
              "      <th>date</th>\n",
              "      <th>text_tokens</th>\n",
              "    </tr>\n",
              "  </thead>\n",
              "  <tbody>\n",
              "    <tr>\n",
              "      <th>0</th>\n",
              "      <td>https://lenta.ru/news/2018/12/14/cancer/</td>\n",
              "      <td>Названы регионы России с самой высокой смертно...</td>\n",
              "      <td>Вице-премьер по социальным вопросам Татьяна Го...</td>\n",
              "      <td>Россия</td>\n",
              "      <td>Общество</td>\n",
              "      <td>None</td>\n",
              "      <td>[вице-премьер, по, социальным, вопросам, татья...</td>\n",
              "    </tr>\n",
              "    <tr>\n",
              "      <th>1</th>\n",
              "      <td>https://lenta.ru/news/2018/12/15/doping/</td>\n",
              "      <td>Австрия не представила доказательств вины росс...</td>\n",
              "      <td>Австрийские правоохранительные органы не предс...</td>\n",
              "      <td>Спорт</td>\n",
              "      <td>Зимние виды</td>\n",
              "      <td>None</td>\n",
              "      <td>[австрийские, правоохранительные, органы, не, ...</td>\n",
              "    </tr>\n",
              "    <tr>\n",
              "      <th>2</th>\n",
              "      <td>https://lenta.ru/news/2018/12/15/disneyland/</td>\n",
              "      <td>Обнаружено самое счастливое место на планете</td>\n",
              "      <td>Сотрудники социальной сети Instagram проанализ...</td>\n",
              "      <td>Путешествия</td>\n",
              "      <td>Мир</td>\n",
              "      <td>None</td>\n",
              "      <td>[сотрудники, социальной, сети, instagram, проа...</td>\n",
              "    </tr>\n",
              "    <tr>\n",
              "      <th>3</th>\n",
              "      <td>https://lenta.ru/news/2018/12/15/usa25/</td>\n",
              "      <td>В США раскрыли сумму расходов на расследование...</td>\n",
              "      <td>С начала расследования российского вмешательст...</td>\n",
              "      <td>Мир</td>\n",
              "      <td>Политика</td>\n",
              "      <td>None</td>\n",
              "      <td>[с, начала, расследования, российского, вмешат...</td>\n",
              "    </tr>\n",
              "    <tr>\n",
              "      <th>4</th>\n",
              "      <td>https://lenta.ru/news/2018/12/15/integrity/</td>\n",
              "      <td>Хакеры рассказали о планах Великобритании зами...</td>\n",
              "      <td>Хакерская группировка Anonymous опубликовала н...</td>\n",
              "      <td>Мир</td>\n",
              "      <td>Общество</td>\n",
              "      <td>None</td>\n",
              "      <td>[хакерская, группировка, anonymous, опубликова...</td>\n",
              "    </tr>\n",
              "  </tbody>\n",
              "</table>\n",
              "</div>\n",
              "      <button class=\"colab-df-convert\" onclick=\"convertToInteractive('df-8c3f6bf5-6f8c-4053-bcf5-67b87d8c4194')\"\n",
              "              title=\"Convert this dataframe to an interactive table.\"\n",
              "              style=\"display:none;\">\n",
              "        \n",
              "  <svg xmlns=\"http://www.w3.org/2000/svg\" height=\"24px\"viewBox=\"0 0 24 24\"\n",
              "       width=\"24px\">\n",
              "    <path d=\"M0 0h24v24H0V0z\" fill=\"none\"/>\n",
              "    <path d=\"M18.56 5.44l.94 2.06.94-2.06 2.06-.94-2.06-.94-.94-2.06-.94 2.06-2.06.94zm-11 1L8.5 8.5l.94-2.06 2.06-.94-2.06-.94L8.5 2.5l-.94 2.06-2.06.94zm10 10l.94 2.06.94-2.06 2.06-.94-2.06-.94-.94-2.06-.94 2.06-2.06.94z\"/><path d=\"M17.41 7.96l-1.37-1.37c-.4-.4-.92-.59-1.43-.59-.52 0-1.04.2-1.43.59L10.3 9.45l-7.72 7.72c-.78.78-.78 2.05 0 2.83L4 21.41c.39.39.9.59 1.41.59.51 0 1.02-.2 1.41-.59l7.78-7.78 2.81-2.81c.8-.78.8-2.07 0-2.86zM5.41 20L4 18.59l7.72-7.72 1.47 1.35L5.41 20z\"/>\n",
              "  </svg>\n",
              "      </button>\n",
              "      \n",
              "  <style>\n",
              "    .colab-df-container {\n",
              "      display:flex;\n",
              "      flex-wrap:wrap;\n",
              "      gap: 12px;\n",
              "    }\n",
              "\n",
              "    .colab-df-convert {\n",
              "      background-color: #E8F0FE;\n",
              "      border: none;\n",
              "      border-radius: 50%;\n",
              "      cursor: pointer;\n",
              "      display: none;\n",
              "      fill: #1967D2;\n",
              "      height: 32px;\n",
              "      padding: 0 0 0 0;\n",
              "      width: 32px;\n",
              "    }\n",
              "\n",
              "    .colab-df-convert:hover {\n",
              "      background-color: #E2EBFA;\n",
              "      box-shadow: 0px 1px 2px rgba(60, 64, 67, 0.3), 0px 1px 3px 1px rgba(60, 64, 67, 0.15);\n",
              "      fill: #174EA6;\n",
              "    }\n",
              "\n",
              "    [theme=dark] .colab-df-convert {\n",
              "      background-color: #3B4455;\n",
              "      fill: #D2E3FC;\n",
              "    }\n",
              "\n",
              "    [theme=dark] .colab-df-convert:hover {\n",
              "      background-color: #434B5C;\n",
              "      box-shadow: 0px 1px 3px 1px rgba(0, 0, 0, 0.15);\n",
              "      filter: drop-shadow(0px 1px 2px rgba(0, 0, 0, 0.3));\n",
              "      fill: #FFFFFF;\n",
              "    }\n",
              "  </style>\n",
              "\n",
              "      <script>\n",
              "        const buttonEl =\n",
              "          document.querySelector('#df-8c3f6bf5-6f8c-4053-bcf5-67b87d8c4194 button.colab-df-convert');\n",
              "        buttonEl.style.display =\n",
              "          google.colab.kernel.accessAllowed ? 'block' : 'none';\n",
              "\n",
              "        async function convertToInteractive(key) {\n",
              "          const element = document.querySelector('#df-8c3f6bf5-6f8c-4053-bcf5-67b87d8c4194');\n",
              "          const dataTable =\n",
              "            await google.colab.kernel.invokeFunction('convertToInteractive',\n",
              "                                                     [key], {});\n",
              "          if (!dataTable) return;\n",
              "\n",
              "          const docLinkHtml = 'Like what you see? Visit the ' +\n",
              "            '<a target=\"_blank\" href=https://colab.research.google.com/notebooks/data_table.ipynb>data table notebook</a>'\n",
              "            + ' to learn more about interactive tables.';\n",
              "          element.innerHTML = '';\n",
              "          dataTable['output_type'] = 'display_data';\n",
              "          await google.colab.output.renderOutput(dataTable, element);\n",
              "          const docLink = document.createElement('div');\n",
              "          docLink.innerHTML = docLinkHtml;\n",
              "          element.appendChild(docLink);\n",
              "        }\n",
              "      </script>\n",
              "    </div>\n",
              "  </div>\n",
              "  "
            ]
          },
          "metadata": {},
          "execution_count": 22
        }
      ]
    },
    {
      "cell_type": "code",
      "source": [
        "#скачиваем данные со стоп-словами\n",
        "nltk.download(\"stopwords\")\n",
        "#импортируем соответсвующий модуль\n",
        "from nltk.corpus import stopwords\n",
        "#загружаем список русских стоп-слов\n",
        "russian_stopwords = stopwords.words(\"russian\")"
      ],
      "metadata": {
        "colab": {
          "base_uri": "https://localhost:8080/"
        },
        "id": "vSaXJZEvLPPO",
        "outputId": "773fcb4a-28e8-456f-9ffa-821058e0660a"
      },
      "execution_count": null,
      "outputs": [
        {
          "output_type": "stream",
          "name": "stderr",
          "text": [
            "[nltk_data] Downloading package stopwords to /root/nltk_data...\n",
            "[nltk_data]   Unzipping corpora/stopwords.zip.\n"
          ]
        }
      ]
    },
    {
      "cell_type": "code",
      "source": [
        "SW_LIST = russian_stopwords\n",
        "def delete_stopwords(tokens):\n",
        "  result = [t for t in tokens if t not in SW_LIST]\n",
        "  return result\n",
        "\n",
        "data[\"text_tokens\"] = data[\"text_tokens\"].apply(delete_stopwords)"
      ],
      "metadata": {
        "id": "CnyEeKt9LVPC"
      },
      "execution_count": null,
      "outputs": []
    },
    {
      "cell_type": "code",
      "source": [
        "data.head()"
      ],
      "metadata": {
        "colab": {
          "base_uri": "https://localhost:8080/",
          "height": 523
        },
        "id": "AKKoSld2OpBq",
        "outputId": "231d34ac-5eed-4cea-ac2d-fe92b8a4aeb4"
      },
      "execution_count": null,
      "outputs": [
        {
          "output_type": "execute_result",
          "data": {
            "text/plain": [
              "                                            url  \\\n",
              "0      https://lenta.ru/news/2018/12/14/cancer/   \n",
              "1      https://lenta.ru/news/2018/12/15/doping/   \n",
              "2  https://lenta.ru/news/2018/12/15/disneyland/   \n",
              "3       https://lenta.ru/news/2018/12/15/usa25/   \n",
              "4   https://lenta.ru/news/2018/12/15/integrity/   \n",
              "\n",
              "                                               title  \\\n",
              "0  Названы регионы России с самой высокой смертно...   \n",
              "1  Австрия не представила доказательств вины росс...   \n",
              "2       Обнаружено самое счастливое место на планете   \n",
              "3  В США раскрыли сумму расходов на расследование...   \n",
              "4  Хакеры рассказали о планах Великобритании зами...   \n",
              "\n",
              "                                                text        topic  \\\n",
              "0  Вице-премьер по социальным вопросам Татьяна Го...       Россия   \n",
              "1  Австрийские правоохранительные органы не предс...        Спорт   \n",
              "2  Сотрудники социальной сети Instagram проанализ...  Путешествия   \n",
              "3  С начала расследования российского вмешательст...          Мир   \n",
              "4  Хакерская группировка Anonymous опубликовала н...          Мир   \n",
              "\n",
              "          tags  date                                        text_tokens  \n",
              "0     Общество  None  [вице-премьер, социальным, вопросам, татьяна, ...  \n",
              "1  Зимние виды  None  [австрийские, правоохранительные, органы, пред...  \n",
              "2          Мир  None  [сотрудники, социальной, сети, instagram, проа...  \n",
              "3     Политика  None  [начала, расследования, российского, вмешатель...  \n",
              "4     Общество  None  [хакерская, группировка, anonymous, опубликова...  "
            ],
            "text/html": [
              "\n",
              "  <div id=\"df-5e65a5c0-8d65-4628-9655-5dabf16cfa43\">\n",
              "    <div class=\"colab-df-container\">\n",
              "      <div>\n",
              "<style scoped>\n",
              "    .dataframe tbody tr th:only-of-type {\n",
              "        vertical-align: middle;\n",
              "    }\n",
              "\n",
              "    .dataframe tbody tr th {\n",
              "        vertical-align: top;\n",
              "    }\n",
              "\n",
              "    .dataframe thead th {\n",
              "        text-align: right;\n",
              "    }\n",
              "</style>\n",
              "<table border=\"1\" class=\"dataframe\">\n",
              "  <thead>\n",
              "    <tr style=\"text-align: right;\">\n",
              "      <th></th>\n",
              "      <th>url</th>\n",
              "      <th>title</th>\n",
              "      <th>text</th>\n",
              "      <th>topic</th>\n",
              "      <th>tags</th>\n",
              "      <th>date</th>\n",
              "      <th>text_tokens</th>\n",
              "    </tr>\n",
              "  </thead>\n",
              "  <tbody>\n",
              "    <tr>\n",
              "      <th>0</th>\n",
              "      <td>https://lenta.ru/news/2018/12/14/cancer/</td>\n",
              "      <td>Названы регионы России с самой высокой смертно...</td>\n",
              "      <td>Вице-премьер по социальным вопросам Татьяна Го...</td>\n",
              "      <td>Россия</td>\n",
              "      <td>Общество</td>\n",
              "      <td>None</td>\n",
              "      <td>[вице-премьер, социальным, вопросам, татьяна, ...</td>\n",
              "    </tr>\n",
              "    <tr>\n",
              "      <th>1</th>\n",
              "      <td>https://lenta.ru/news/2018/12/15/doping/</td>\n",
              "      <td>Австрия не представила доказательств вины росс...</td>\n",
              "      <td>Австрийские правоохранительные органы не предс...</td>\n",
              "      <td>Спорт</td>\n",
              "      <td>Зимние виды</td>\n",
              "      <td>None</td>\n",
              "      <td>[австрийские, правоохранительные, органы, пред...</td>\n",
              "    </tr>\n",
              "    <tr>\n",
              "      <th>2</th>\n",
              "      <td>https://lenta.ru/news/2018/12/15/disneyland/</td>\n",
              "      <td>Обнаружено самое счастливое место на планете</td>\n",
              "      <td>Сотрудники социальной сети Instagram проанализ...</td>\n",
              "      <td>Путешествия</td>\n",
              "      <td>Мир</td>\n",
              "      <td>None</td>\n",
              "      <td>[сотрудники, социальной, сети, instagram, проа...</td>\n",
              "    </tr>\n",
              "    <tr>\n",
              "      <th>3</th>\n",
              "      <td>https://lenta.ru/news/2018/12/15/usa25/</td>\n",
              "      <td>В США раскрыли сумму расходов на расследование...</td>\n",
              "      <td>С начала расследования российского вмешательст...</td>\n",
              "      <td>Мир</td>\n",
              "      <td>Политика</td>\n",
              "      <td>None</td>\n",
              "      <td>[начала, расследования, российского, вмешатель...</td>\n",
              "    </tr>\n",
              "    <tr>\n",
              "      <th>4</th>\n",
              "      <td>https://lenta.ru/news/2018/12/15/integrity/</td>\n",
              "      <td>Хакеры рассказали о планах Великобритании зами...</td>\n",
              "      <td>Хакерская группировка Anonymous опубликовала н...</td>\n",
              "      <td>Мир</td>\n",
              "      <td>Общество</td>\n",
              "      <td>None</td>\n",
              "      <td>[хакерская, группировка, anonymous, опубликова...</td>\n",
              "    </tr>\n",
              "  </tbody>\n",
              "</table>\n",
              "</div>\n",
              "      <button class=\"colab-df-convert\" onclick=\"convertToInteractive('df-5e65a5c0-8d65-4628-9655-5dabf16cfa43')\"\n",
              "              title=\"Convert this dataframe to an interactive table.\"\n",
              "              style=\"display:none;\">\n",
              "        \n",
              "  <svg xmlns=\"http://www.w3.org/2000/svg\" height=\"24px\"viewBox=\"0 0 24 24\"\n",
              "       width=\"24px\">\n",
              "    <path d=\"M0 0h24v24H0V0z\" fill=\"none\"/>\n",
              "    <path d=\"M18.56 5.44l.94 2.06.94-2.06 2.06-.94-2.06-.94-.94-2.06-.94 2.06-2.06.94zm-11 1L8.5 8.5l.94-2.06 2.06-.94-2.06-.94L8.5 2.5l-.94 2.06-2.06.94zm10 10l.94 2.06.94-2.06 2.06-.94-2.06-.94-.94-2.06-.94 2.06-2.06.94z\"/><path d=\"M17.41 7.96l-1.37-1.37c-.4-.4-.92-.59-1.43-.59-.52 0-1.04.2-1.43.59L10.3 9.45l-7.72 7.72c-.78.78-.78 2.05 0 2.83L4 21.41c.39.39.9.59 1.41.59.51 0 1.02-.2 1.41-.59l7.78-7.78 2.81-2.81c.8-.78.8-2.07 0-2.86zM5.41 20L4 18.59l7.72-7.72 1.47 1.35L5.41 20z\"/>\n",
              "  </svg>\n",
              "      </button>\n",
              "      \n",
              "  <style>\n",
              "    .colab-df-container {\n",
              "      display:flex;\n",
              "      flex-wrap:wrap;\n",
              "      gap: 12px;\n",
              "    }\n",
              "\n",
              "    .colab-df-convert {\n",
              "      background-color: #E8F0FE;\n",
              "      border: none;\n",
              "      border-radius: 50%;\n",
              "      cursor: pointer;\n",
              "      display: none;\n",
              "      fill: #1967D2;\n",
              "      height: 32px;\n",
              "      padding: 0 0 0 0;\n",
              "      width: 32px;\n",
              "    }\n",
              "\n",
              "    .colab-df-convert:hover {\n",
              "      background-color: #E2EBFA;\n",
              "      box-shadow: 0px 1px 2px rgba(60, 64, 67, 0.3), 0px 1px 3px 1px rgba(60, 64, 67, 0.15);\n",
              "      fill: #174EA6;\n",
              "    }\n",
              "\n",
              "    [theme=dark] .colab-df-convert {\n",
              "      background-color: #3B4455;\n",
              "      fill: #D2E3FC;\n",
              "    }\n",
              "\n",
              "    [theme=dark] .colab-df-convert:hover {\n",
              "      background-color: #434B5C;\n",
              "      box-shadow: 0px 1px 3px 1px rgba(0, 0, 0, 0.15);\n",
              "      filter: drop-shadow(0px 1px 2px rgba(0, 0, 0, 0.3));\n",
              "      fill: #FFFFFF;\n",
              "    }\n",
              "  </style>\n",
              "\n",
              "      <script>\n",
              "        const buttonEl =\n",
              "          document.querySelector('#df-5e65a5c0-8d65-4628-9655-5dabf16cfa43 button.colab-df-convert');\n",
              "        buttonEl.style.display =\n",
              "          google.colab.kernel.accessAllowed ? 'block' : 'none';\n",
              "\n",
              "        async function convertToInteractive(key) {\n",
              "          const element = document.querySelector('#df-5e65a5c0-8d65-4628-9655-5dabf16cfa43');\n",
              "          const dataTable =\n",
              "            await google.colab.kernel.invokeFunction('convertToInteractive',\n",
              "                                                     [key], {});\n",
              "          if (!dataTable) return;\n",
              "\n",
              "          const docLinkHtml = 'Like what you see? Visit the ' +\n",
              "            '<a target=\"_blank\" href=https://colab.research.google.com/notebooks/data_table.ipynb>data table notebook</a>'\n",
              "            + ' to learn more about interactive tables.';\n",
              "          element.innerHTML = '';\n",
              "          dataTable['output_type'] = 'display_data';\n",
              "          await google.colab.output.renderOutput(dataTable, element);\n",
              "          const docLink = document.createElement('div');\n",
              "          docLink.innerHTML = docLinkHtml;\n",
              "          element.appendChild(docLink);\n",
              "        }\n",
              "      </script>\n",
              "    </div>\n",
              "  </div>\n",
              "  "
            ]
          },
          "metadata": {},
          "execution_count": 25
        }
      ]
    },
    {
      "cell_type": "code",
      "source": [
        "data[\"clear_text\"] = data['text_tokens'].apply(lambda x: ' '.join(x))"
      ],
      "metadata": {
        "id": "x_GSGRpmN_8j"
      },
      "execution_count": null,
      "outputs": []
    },
    {
      "cell_type": "code",
      "source": [
        "def lemmatise(text):\n",
        "    doc = nlp(text)\n",
        "    tmp = [token.lemma_ for token in doc]\n",
        "    return tmp\n",
        "\n",
        "data[\"text_lemma\"] = data[\"clear_text\"].apply(lemmatise)\n"
      ],
      "metadata": {
        "id": "CncVB9UvL-0V"
      },
      "execution_count": null,
      "outputs": []
    },
    {
      "cell_type": "code",
      "source": [
        "answer_6_1 = data[\"text_lemma\"][j][0]\n",
        "answer_6_1"
      ],
      "metadata": {
        "id": "MHgfC11ajIrE",
        "colab": {
          "base_uri": "https://localhost:8080/",
          "height": 37
        },
        "outputId": "8ff8c346-12b9-48b4-edc9-5710fab5b4de"
      },
      "execution_count": null,
      "outputs": [
        {
          "output_type": "execute_result",
          "data": {
            "text/plain": [
              "'минобороны'"
            ],
            "application/vnd.google.colaboratory.intrinsic+json": {
              "type": "string"
            }
          },
          "metadata": {},
          "execution_count": 28
        }
      ]
    },
    {
      "cell_type": "markdown",
      "source": [
        "## 6.2 Обучение модели из gensim (1.5 балл)\n",
        "- Обучите модель gensim.models.Word2Vec на датасете. Размер эмбединга = 16, минимальнео число вхождения токена = 2, архитектура = SkipGram\n",
        "- Найдите токены похожие на токе, полученный в задании 6.1\n",
        "- В качетсве ответа приведите самый похожий токен и степень его похожести"
      ],
      "metadata": {
        "id": "dBWglQSajYu9"
      }
    },
    {
      "cell_type": "code",
      "source": [
        "#Обучите модель gensim.models.Word2Vec на датасете. Размер эмбединга = 16, минимальнео число вхождения токена = 2, архитектура = SkipGram\n",
        "import gensim\n",
        "\n",
        "\n",
        "our_model = gensim.models.Word2Vec(data[\"text_lemma\"], size=16, min_count=2, sg=1)"
      ],
      "metadata": {
        "id": "7wfxRkpPgeMg"
      },
      "execution_count": null,
      "outputs": []
    },
    {
      "cell_type": "code",
      "source": [
        "our_model.most_similar(positive=[\"минобороны\"], topn=10)"
      ],
      "metadata": {
        "colab": {
          "base_uri": "https://localhost:8080/"
        },
        "id": "byQPg7UHSceC",
        "outputId": "65312457-9ac3-4aa7-87b1-7acb7b8187ea"
      },
      "execution_count": null,
      "outputs": [
        {
          "output_type": "stream",
          "name": "stderr",
          "text": [
            "/usr/local/lib/python3.7/dist-packages/ipykernel_launcher.py:1: DeprecationWarning: Call to deprecated `most_similar` (Method will be removed in 4.0.0, use self.wv.most_similar() instead).\n",
            "  \"\"\"Entry point for launching an IPython kernel.\n"
          ]
        },
        {
          "output_type": "execute_result",
          "data": {
            "text/plain": [
              "[('тайный', 0.9148739576339722),\n",
              " ('обнародовать', 0.8968366384506226),\n",
              " ('задействовать', 0.8858580589294434),\n",
              " ('норвегия', 0.884513795375824),\n",
              " ('запросить', 0.8818864822387695),\n",
              " ('армия', 0.8813396692276001),\n",
              " ('израиль', 0.8778765201568604),\n",
              " ('демонстрация', 0.8766313791275024),\n",
              " ('сирийский', 0.8760891556739807),\n",
              " ('правительственный', 0.8754061460494995)]"
            ]
          },
          "metadata": {},
          "execution_count": 30
        }
      ]
    },
    {
      "cell_type": "markdown",
      "source": [
        "## №6.3 Векторное представление (1 балл)\n",
        "Выведите веткорное представление вашего ответа на задание 6.1. 15-й элемент этого веткора - ответ на на задание 6.3\n"
      ],
      "metadata": {
        "id": "R0c3JwsAm3Vb"
      }
    },
    {
      "cell_type": "code",
      "source": [
        "print(our_model.wv[\"минобороны\"])"
      ],
      "metadata": {
        "colab": {
          "base_uri": "https://localhost:8080/"
        },
        "id": "9mRlK1v6Y0-h",
        "outputId": "ecb1ea25-2d2c-4997-c338-89df436900d7"
      },
      "execution_count": null,
      "outputs": [
        {
          "output_type": "stream",
          "name": "stdout",
          "text": [
            "[-0.8761992   0.7823724   0.27647963  0.85186565  0.03660835 -0.22953126\n",
            "  0.5766186   1.3368134  -0.18340033 -0.26805434  0.35488766  1.1695813\n",
            " -0.5854095  -0.0899807   0.162539   -1.3406484 ]\n"
          ]
        }
      ]
    },
    {
      "cell_type": "code",
      "source": [
        "answer_6_3 = # ваш код тут\n",
        "answer_6_3"
      ],
      "metadata": {
        "id": "W5OeQ8XonLFR"
      },
      "execution_count": null,
      "outputs": []
    },
    {
      "cell_type": "markdown",
      "source": [
        "## 6.4 Использование предобученной модели (1.5 балл)\n",
        "- загрузите предобученны эмбединги модели word2vec-ruscorpora-300\n",
        "- Найдите слово наиболее похожее на результат вычисления \"студент_NOUN\" - ваше имя (часть речи для имени - NOUN)\n",
        "- Ответом будем слово и его степень похожести, например ('универсант_NOUN', 0.4597257971763611)"
      ],
      "metadata": {
        "id": "FdF-aotUkVb1"
      }
    },
    {
      "cell_type": "code",
      "source": [
        "import gensim.downloader as api\n",
        "word_vectors = api.load(\"word2vec-ruscorpora-300\")"
      ],
      "metadata": {
        "id": "O-8HnCutWIZ0"
      },
      "execution_count": 33,
      "outputs": []
    },
    {
      "cell_type": "code",
      "source": [
        "# Найдите слово наиболее похожее на результат вычисления \"студент_NOUN\" - ваше имя (часть речи для имени - NOUN)\n",
        "similar_words = #ваш код тут\n",
        "# Ответом будем слово и его степень похожести, например ('универсант_NOUN', 0.4597257971763611)\n",
        "answer_6_4 = similar_words[0]\n",
        "answer_6_4"
      ],
      "metadata": {
        "id": "JNy-MG4qkfQk"
      },
      "execution_count": null,
      "outputs": []
    },
    {
      "cell_type": "code",
      "source": [
        "def find_similar(plus = [], minus = [], top_n=5):\n",
        "  return word_vectors.most_similar(positive=plus, negative=minus, topn=top_n)"
      ],
      "metadata": {
        "id": "A1IBYltkckuK"
      },
      "execution_count": 35,
      "outputs": []
    },
    {
      "cell_type": "code",
      "source": [
        "find_similar(plus=[\"студент_NOUN\"], minus=[\"майя_NOUN\"])"
      ],
      "metadata": {
        "id": "R16IEpsjc0VW",
        "colab": {
          "base_uri": "https://localhost:8080/"
        },
        "outputId": "afb5675c-57cb-49ed-c5b1-ddefe271c4a5"
      },
      "execution_count": 36,
      "outputs": [
        {
          "output_type": "execute_result",
          "data": {
            "text/plain": [
              "[('универсант_NOUN', 0.4597257971763611),\n",
              " ('студенчество_NOUN', 0.4570831060409546),\n",
              " ('университет_NOUN', 0.4464452266693115),\n",
              " ('студенческий_ADJ', 0.44114354252815247),\n",
              " ('преподаватель_NOUN', 0.4403188228607178)]"
            ]
          },
          "metadata": {},
          "execution_count": 36
        }
      ]
    }
  ]
}