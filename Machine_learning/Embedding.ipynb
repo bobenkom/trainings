{
  "nbformat": 4,
  "nbformat_minor": 0,
  "metadata": {
    "colab": {
      "provenance": [],
      "collapsed_sections": []
    },
    "kernelspec": {
      "name": "python3",
      "display_name": "Python 3"
    },
    "language_info": {
      "name": "python"
    }
  },
  "cells": [
    {
      "cell_type": "code",
      "execution_count": 37,
      "metadata": {
        "id": "S280ORJMSFms"
      },
      "outputs": [],
      "source": [
        "%%capture\n",
        "!pip install corus\n",
        "!pip install wget"
      ]
    },
    {
      "cell_type": "code",
      "source": [
        "%%capture\n",
        "!wget https://github.com/yutkin/Lenta.Ru-News-Dataset/releases/download/v1.0/lenta-ru-news.csv.gz"
      ],
      "metadata": {
        "id": "o77QzAkSSGNX"
      },
      "execution_count": 38,
      "outputs": []
    },
    {
      "cell_type": "code",
      "source": [
        "#считываем скаченные ранее файл с новостями Лента.Ру\n",
        "from corus import load_lenta\n",
        "path = 'lenta-ru-news.csv.gz'\n",
        "records = load_lenta(path)"
      ],
      "metadata": {
        "id": "yU1ZGluGSGSA"
      },
      "execution_count": 39,
      "outputs": []
    },
    {
      "cell_type": "markdown",
      "source": [
        "# №1 Извлечение данных (0.5 баллов)\n",
        "Вытащите новости с 10000-й до 15000-й (должно получиться 5000 новостей) и переведите их в pandas dataframe - назовём их **датасет**\n",
        "\n",
        "Из вытащенных новостей выберите новости j и  j+1, где j - ваш номер в списке группы. В дальнейшем будем называть эти новости **первой** и второй соответственно. Title перой новости - ответ на первое задание\n",
        "\n",
        "**обратите внимание, повторный запуск перебора методом next приводит к другому результату - записи выбираются не с начала генератора**\n",
        "\n"
      ],
      "metadata": {
        "id": "D0MtDGXmSGdU"
      }
    },
    {
      "cell_type": "code",
      "source": [
        "import numpy as np\n",
        "import pandas as pd"
      ],
      "metadata": {
        "id": "G2iVpPrTc5HE"
      },
      "execution_count": 40,
      "outputs": []
    },
    {
      "cell_type": "code",
      "source": [
        "news_records = list()\n",
        "#Вытащите новости с 10000-й до 15000-й\n",
        "for i in range(10000):\n",
        "    next(records)\n",
        "for i in range(5000):\n",
        "  news_records.append(next(records))\n",
        "\n",
        "data = pd.DataFrame.from_records(news_records, columns = [\"url\", \"title\", \"text\", \"topic\", \"tags\", \"date\"])\n",
        "assert(data.shape == (5000, 6))\n",
        "\n",
        "j=8  # установите ваше значение j \n",
        "first_news = news_records[j]\n",
        "second_news = news_records[j+1]\n",
        "                          \n",
        "answer_1 = first_news.title\n",
        "answer_1"
      ],
      "metadata": {
        "id": "mDZ_bIjCSJsn",
        "colab": {
          "base_uri": "https://localhost:8080/",
          "height": 37
        },
        "outputId": "dddbb85d-5910-4f22-a35c-1b434367ab7b"
      },
      "execution_count": 41,
      "outputs": [
        {
          "output_type": "execute_result",
          "data": {
            "text/plain": [
              "'Кремль уточнил рабочий график Путина'"
            ],
            "application/vnd.google.colaboratory.intrinsic+json": {
              "type": "string"
            }
          },
          "metadata": {},
          "execution_count": 41
        }
      ]
    },
    {
      "cell_type": "code",
      "source": [
        "data = pd.DataFrame.from_records(news_records, columns = [\"url\", \"title\", \"text\", \"topic\", \"tags\", \"date\"])"
      ],
      "metadata": {
        "id": "BlTjHopFObFw"
      },
      "execution_count": 42,
      "outputs": []
    },
    {
      "cell_type": "markdown",
      "source": [
        "# №2 Токенизация (1 балл)\n",
        "Разбейте ваш ответ из №1 на токены по словам при помощи nltk.tokenize.word_tokenize\n",
        "\n",
        "Ответ на это задание - 3-й токен"
      ],
      "metadata": {
        "id": "Pw6CqrYMVpre"
      }
    },
    {
      "cell_type": "code",
      "source": [
        "from nltk.tokenize import word_tokenize\n",
        "import nltk\n",
        "nltk.download('punkt')"
      ],
      "metadata": {
        "colab": {
          "base_uri": "https://localhost:8080/"
        },
        "id": "RcOOdLXaEe8v",
        "outputId": "dd898c2f-4ea1-4983-b859-72bfefd72303"
      },
      "execution_count": 43,
      "outputs": [
        {
          "output_type": "stream",
          "name": "stderr",
          "text": [
            "[nltk_data] Downloading package punkt to /root/nltk_data...\n",
            "[nltk_data]   Package punkt is already up-to-date!\n"
          ]
        },
        {
          "output_type": "execute_result",
          "data": {
            "text/plain": [
              "True"
            ]
          },
          "metadata": {},
          "execution_count": 43
        }
      ]
    },
    {
      "cell_type": "code",
      "source": [
        "# Разбейте ваш ответ из №1 на токены по словам при помощи nltk.tokenize.word_tokenize\n",
        "tokens = word_tokenize(answer_1)\n",
        "answer_2 = tokens[3]\n",
        "answer_2"
      ],
      "metadata": {
        "id": "XzVKw0MWVA6A",
        "colab": {
          "base_uri": "https://localhost:8080/",
          "height": 37
        },
        "outputId": "27c3a48d-171c-417b-c04d-4b76cf82d941"
      },
      "execution_count": 44,
      "outputs": [
        {
          "output_type": "execute_result",
          "data": {
            "text/plain": [
              "'график'"
            ],
            "application/vnd.google.colaboratory.intrinsic+json": {
              "type": "string"
            }
          },
          "metadata": {},
          "execution_count": 44
        }
      ]
    },
    {
      "cell_type": "markdown",
      "source": [
        "# №3 Stemming (1 балл)\n",
        "К токену 1 из заголовка первой новости примените nltk.stem.snowball.SnowballStemmer - это ответ на третье задание\n"
      ],
      "metadata": {
        "id": "grUdrezcWja8"
      }
    },
    {
      "cell_type": "code",
      "source": [
        "from nltk.stem.snowball import SnowballStemmer\n",
        "stemmer = SnowballStemmer(\"russian\")"
      ],
      "metadata": {
        "id": "XPKH7qtRE67u"
      },
      "execution_count": 45,
      "outputs": []
    },
    {
      "cell_type": "code",
      "source": [
        "# импортируем и создаём стэммер\n",
        "# ваш код тут\n",
        "answer_3 = stemmer.stem(tokens[1])\n",
        "answer_3"
      ],
      "metadata": {
        "colab": {
          "base_uri": "https://localhost:8080/",
          "height": 37
        },
        "id": "4mW9M6bUFBfX",
        "outputId": "b4c6793a-33b0-406a-e119-c5180a162ba4"
      },
      "execution_count": 46,
      "outputs": [
        {
          "output_type": "execute_result",
          "data": {
            "text/plain": [
              "'уточн'"
            ],
            "application/vnd.google.colaboratory.intrinsic+json": {
              "type": "string"
            }
          },
          "metadata": {},
          "execution_count": 46
        }
      ]
    },
    {
      "cell_type": "markdown",
      "source": [
        "# №4 Лемматизация (1 балл)\n",
        "Примените лемматизацию из spacy (ru_core_news_sm) к тексту второй новости. Первое предложение второй новости в леммах - ответ на 4-е задание"
      ],
      "metadata": {
        "id": "yhfb4QdQY_-w"
      }
    },
    {
      "cell_type": "code",
      "source": [
        "%%capture\n",
        "!python -m spacy download ru_core_news_sm"
      ],
      "metadata": {
        "id": "Hdf7NgDAZEup"
      },
      "execution_count": 47,
      "outputs": []
    },
    {
      "cell_type": "code",
      "source": [
        "import spacy\n",
        "\n",
        "nlp = spacy.load(\"ru_core_news_sm\")\n",
        "\n",
        "# Примените лемматизацию из spacy (ru_core_news_sm) к тексту второй новости. Первое предложение второй новости в леммах - ответ на 4-е задание\n",
        "#ваш код тут"
      ],
      "metadata": {
        "id": "ms5u_lEib9B7"
      },
      "execution_count": 48,
      "outputs": []
    },
    {
      "cell_type": "code",
      "source": [
        "doc = nlp(second_news.text)\n",
        "tmp = ' '.join([token.lemma_ for token in doc])"
      ],
      "metadata": {
        "id": "wI1R87l8Fub_"
      },
      "execution_count": 49,
      "outputs": []
    },
    {
      "cell_type": "code",
      "source": [
        "tmp.split(\".\")[0]"
      ],
      "metadata": {
        "colab": {
          "base_uri": "https://localhost:8080/",
          "height": 54
        },
        "id": "3Va_qIzJGFAl",
        "outputId": "aecc23c6-ba55-4145-8f3f-659ddb95056f"
      },
      "execution_count": 50,
      "outputs": [
        {
          "output_type": "execute_result",
          "data": {
            "text/plain": [
              "'в казань бывший сотрудник силовой спецподразделение наброситься на улица на 17-летнего подросток , страдать аутизм , писать \" комсомольский правда в казань \" '"
            ],
            "application/vnd.google.colaboratory.intrinsic+json": {
              "type": "string"
            }
          },
          "metadata": {},
          "execution_count": 50
        }
      ]
    },
    {
      "cell_type": "markdown",
      "source": [
        "# №5 TF-IDF (1 балл)\n",
        "При помощи sklearn.feature_extraction.text.TfidfVectorizer векторизуйте первые 20 предложений из датасета. Из полученого словаря, отсортированого по алфавиту, возьмите j-ий токен и посчитайте максимальное значение его tf-idf в этих 20 предложениях - это будет ответ на 5 задание \n"
      ],
      "metadata": {
        "id": "fTAE84eWd4AU"
      }
    },
    {
      "cell_type": "code",
      "source": [
        "data"
      ],
      "metadata": {
        "id": "-MIy9NpxHley"
      },
      "execution_count": null,
      "outputs": []
    },
    {
      "cell_type": "code",
      "source": [
        "from sklearn.feature_extraction.text import TfidfVectorizer"
      ],
      "metadata": {
        "id": "3sjsbpGCcA2r"
      },
      "execution_count": 51,
      "outputs": []
    },
    {
      "cell_type": "code",
      "source": [
        "#создаём векторизатор\n",
        "tfidf_vectorizer = TfidfVectorizer()\n",
        "\n",
        "#ваш код тут\n",
        "\n",
        "tfidf_X_sparse = tfidf_vectorizer.fit_transform(data[\"text\"][:20])\n",
        "tfidf_X = tfidf_X_sparse.toarray()\n",
        "tfidf_tokens = tfidf_vectorizer.get_feature_names()\n",
        "\n",
        "# как теперь выглядят тексты\n",
        "df_tfidfvect = pd.DataFrame(data = tfidf_X,columns = tfidf_tokens)\n",
        "answer_5 = df_tfidfvect.max(axis=0)[j]\n",
        "answer_5"
      ],
      "metadata": {
        "id": "XwKi54nNeUaK",
        "colab": {
          "base_uri": "https://localhost:8080/"
        },
        "outputId": "d72e851f-f3a5-43d0-a0e6-52d6961bb3f0"
      },
      "execution_count": 52,
      "outputs": [
        {
          "output_type": "stream",
          "name": "stderr",
          "text": [
            "/usr/local/lib/python3.7/dist-packages/sklearn/utils/deprecation.py:87: FutureWarning: Function get_feature_names is deprecated; get_feature_names is deprecated in 1.0 and will be removed in 1.2. Please use get_feature_names_out instead.\n",
            "  warnings.warn(msg, category=FutureWarning)\n"
          ]
        },
        {
          "output_type": "execute_result",
          "data": {
            "text/plain": [
              "0.07786636458906271"
            ]
          },
          "metadata": {},
          "execution_count": 52
        }
      ]
    },
    {
      "cell_type": "markdown",
      "source": [
        "# №6 Эмбединги\n",
        "Большое задание из подпунктов"
      ],
      "metadata": {
        "id": "qfI-q_HsgdM2"
      }
    },
    {
      "cell_type": "markdown",
      "source": [
        "## 6.1 Токенизируйте по словам предложения из датасета любым способом. примените к ним стемминг или лематизацию (1.5 баллов)\n",
        "В качестве ответа приведите нулевой токен j-го предложения"
      ],
      "metadata": {
        "id": "BExS8J4KhWGr"
      }
    },
    {
      "cell_type": "code",
      "source": [
        "import re"
      ],
      "metadata": {
        "id": "2ttYPH0HK2k9"
      },
      "execution_count": 53,
      "outputs": []
    },
    {
      "cell_type": "code",
      "source": [
        "def tokenize_by_words(txt):\n",
        "  return re.split(' |,|;|\\.|\\?|\\!',txt)\n",
        "\n",
        "data[\"text_tokens\"] = data[\"text\"].apply(tokenize_by_words)\n",
        "data.head()"
      ],
      "metadata": {
        "colab": {
          "base_uri": "https://localhost:8080/",
          "height": 625
        },
        "id": "8Wlgl0TlK0d2",
        "outputId": "4997d732-12e3-47f5-fce9-df101ed1317f"
      },
      "execution_count": 54,
      "outputs": [
        {
          "output_type": "execute_result",
          "data": {
            "text/plain": [
              "                                                url  \\\n",
              "0  https://lenta.ru/news/2018/09/28/germany_russia/   \n",
              "1            https://lenta.ru/news/2018/09/28/maur/   \n",
              "2       https://lenta.ru/news/2018/09/28/sinkinsea/   \n",
              "3        https://lenta.ru/news/2018/09/28/kipyatok/   \n",
              "4   https://lenta.ru/news/2018/09/28/pensi_formula/   \n",
              "\n",
              "                                               title  \\\n",
              "0  Германия ответила на обвинения в зависимости о...   \n",
              "1          «Манчестер Юнайтед» нашел замену Моуринью   \n",
              "2  Пассажирский самолет промахнулся мимо посадочн...   \n",
              "3  В петербургском кафе сварились заживо двое рос...   \n",
              "4    В пенсионную систему внесут очередные изменения   \n",
              "\n",
              "                                                text        topic  \\\n",
              "0  Министр иностранных дел Германии Хайко Маас от...          Мир   \n",
              "1  Английский «Манчестер Юнайтед» рассматривает М...        Спорт   \n",
              "2  Самолет авиакомпании Air Niugini упал в море п...  Путешествия   \n",
              "3  В петербургском антикафе «Типичный Питер» в Ад...       Россия   \n",
              "4  Правительство собирается изменить формулу расч...    Экономика   \n",
              "\n",
              "           tags  date                                        text_tokens  \n",
              "0      Политика  None  [Министр, иностранных, дел, Германии, Хайко, М...  \n",
              "1        Футбол  None  [Английский, «Манчестер, Юнайтед», рассматрива...  \n",
              "2  Происшествия  None  [Самолет, авиакомпании, Air, Niugini, упал, в,...  \n",
              "3      Общество  None  [В, петербургском, антикафе, «Типичный, Питер»...  \n",
              "4  Госэкономика  None  [Правительство, собирается, изменить, формулу,...  "
            ],
            "text/html": [
              "\n",
              "  <div id=\"df-34722433-bc76-4c92-beab-dcf365713333\">\n",
              "    <div class=\"colab-df-container\">\n",
              "      <div>\n",
              "<style scoped>\n",
              "    .dataframe tbody tr th:only-of-type {\n",
              "        vertical-align: middle;\n",
              "    }\n",
              "\n",
              "    .dataframe tbody tr th {\n",
              "        vertical-align: top;\n",
              "    }\n",
              "\n",
              "    .dataframe thead th {\n",
              "        text-align: right;\n",
              "    }\n",
              "</style>\n",
              "<table border=\"1\" class=\"dataframe\">\n",
              "  <thead>\n",
              "    <tr style=\"text-align: right;\">\n",
              "      <th></th>\n",
              "      <th>url</th>\n",
              "      <th>title</th>\n",
              "      <th>text</th>\n",
              "      <th>topic</th>\n",
              "      <th>tags</th>\n",
              "      <th>date</th>\n",
              "      <th>text_tokens</th>\n",
              "    </tr>\n",
              "  </thead>\n",
              "  <tbody>\n",
              "    <tr>\n",
              "      <th>0</th>\n",
              "      <td>https://lenta.ru/news/2018/09/28/germany_russia/</td>\n",
              "      <td>Германия ответила на обвинения в зависимости о...</td>\n",
              "      <td>Министр иностранных дел Германии Хайко Маас от...</td>\n",
              "      <td>Мир</td>\n",
              "      <td>Политика</td>\n",
              "      <td>None</td>\n",
              "      <td>[Министр, иностранных, дел, Германии, Хайко, М...</td>\n",
              "    </tr>\n",
              "    <tr>\n",
              "      <th>1</th>\n",
              "      <td>https://lenta.ru/news/2018/09/28/maur/</td>\n",
              "      <td>«Манчестер Юнайтед» нашел замену Моуринью</td>\n",
              "      <td>Английский «Манчестер Юнайтед» рассматривает М...</td>\n",
              "      <td>Спорт</td>\n",
              "      <td>Футбол</td>\n",
              "      <td>None</td>\n",
              "      <td>[Английский, «Манчестер, Юнайтед», рассматрива...</td>\n",
              "    </tr>\n",
              "    <tr>\n",
              "      <th>2</th>\n",
              "      <td>https://lenta.ru/news/2018/09/28/sinkinsea/</td>\n",
              "      <td>Пассажирский самолет промахнулся мимо посадочн...</td>\n",
              "      <td>Самолет авиакомпании Air Niugini упал в море п...</td>\n",
              "      <td>Путешествия</td>\n",
              "      <td>Происшествия</td>\n",
              "      <td>None</td>\n",
              "      <td>[Самолет, авиакомпании, Air, Niugini, упал, в,...</td>\n",
              "    </tr>\n",
              "    <tr>\n",
              "      <th>3</th>\n",
              "      <td>https://lenta.ru/news/2018/09/28/kipyatok/</td>\n",
              "      <td>В петербургском кафе сварились заживо двое рос...</td>\n",
              "      <td>В петербургском антикафе «Типичный Питер» в Ад...</td>\n",
              "      <td>Россия</td>\n",
              "      <td>Общество</td>\n",
              "      <td>None</td>\n",
              "      <td>[В, петербургском, антикафе, «Типичный, Питер»...</td>\n",
              "    </tr>\n",
              "    <tr>\n",
              "      <th>4</th>\n",
              "      <td>https://lenta.ru/news/2018/09/28/pensi_formula/</td>\n",
              "      <td>В пенсионную систему внесут очередные изменения</td>\n",
              "      <td>Правительство собирается изменить формулу расч...</td>\n",
              "      <td>Экономика</td>\n",
              "      <td>Госэкономика</td>\n",
              "      <td>None</td>\n",
              "      <td>[Правительство, собирается, изменить, формулу,...</td>\n",
              "    </tr>\n",
              "  </tbody>\n",
              "</table>\n",
              "</div>\n",
              "      <button class=\"colab-df-convert\" onclick=\"convertToInteractive('df-34722433-bc76-4c92-beab-dcf365713333')\"\n",
              "              title=\"Convert this dataframe to an interactive table.\"\n",
              "              style=\"display:none;\">\n",
              "        \n",
              "  <svg xmlns=\"http://www.w3.org/2000/svg\" height=\"24px\"viewBox=\"0 0 24 24\"\n",
              "       width=\"24px\">\n",
              "    <path d=\"M0 0h24v24H0V0z\" fill=\"none\"/>\n",
              "    <path d=\"M18.56 5.44l.94 2.06.94-2.06 2.06-.94-2.06-.94-.94-2.06-.94 2.06-2.06.94zm-11 1L8.5 8.5l.94-2.06 2.06-.94-2.06-.94L8.5 2.5l-.94 2.06-2.06.94zm10 10l.94 2.06.94-2.06 2.06-.94-2.06-.94-.94-2.06-.94 2.06-2.06.94z\"/><path d=\"M17.41 7.96l-1.37-1.37c-.4-.4-.92-.59-1.43-.59-.52 0-1.04.2-1.43.59L10.3 9.45l-7.72 7.72c-.78.78-.78 2.05 0 2.83L4 21.41c.39.39.9.59 1.41.59.51 0 1.02-.2 1.41-.59l7.78-7.78 2.81-2.81c.8-.78.8-2.07 0-2.86zM5.41 20L4 18.59l7.72-7.72 1.47 1.35L5.41 20z\"/>\n",
              "  </svg>\n",
              "      </button>\n",
              "      \n",
              "  <style>\n",
              "    .colab-df-container {\n",
              "      display:flex;\n",
              "      flex-wrap:wrap;\n",
              "      gap: 12px;\n",
              "    }\n",
              "\n",
              "    .colab-df-convert {\n",
              "      background-color: #E8F0FE;\n",
              "      border: none;\n",
              "      border-radius: 50%;\n",
              "      cursor: pointer;\n",
              "      display: none;\n",
              "      fill: #1967D2;\n",
              "      height: 32px;\n",
              "      padding: 0 0 0 0;\n",
              "      width: 32px;\n",
              "    }\n",
              "\n",
              "    .colab-df-convert:hover {\n",
              "      background-color: #E2EBFA;\n",
              "      box-shadow: 0px 1px 2px rgba(60, 64, 67, 0.3), 0px 1px 3px 1px rgba(60, 64, 67, 0.15);\n",
              "      fill: #174EA6;\n",
              "    }\n",
              "\n",
              "    [theme=dark] .colab-df-convert {\n",
              "      background-color: #3B4455;\n",
              "      fill: #D2E3FC;\n",
              "    }\n",
              "\n",
              "    [theme=dark] .colab-df-convert:hover {\n",
              "      background-color: #434B5C;\n",
              "      box-shadow: 0px 1px 3px 1px rgba(0, 0, 0, 0.15);\n",
              "      filter: drop-shadow(0px 1px 2px rgba(0, 0, 0, 0.3));\n",
              "      fill: #FFFFFF;\n",
              "    }\n",
              "  </style>\n",
              "\n",
              "      <script>\n",
              "        const buttonEl =\n",
              "          document.querySelector('#df-34722433-bc76-4c92-beab-dcf365713333 button.colab-df-convert');\n",
              "        buttonEl.style.display =\n",
              "          google.colab.kernel.accessAllowed ? 'block' : 'none';\n",
              "\n",
              "        async function convertToInteractive(key) {\n",
              "          const element = document.querySelector('#df-34722433-bc76-4c92-beab-dcf365713333');\n",
              "          const dataTable =\n",
              "            await google.colab.kernel.invokeFunction('convertToInteractive',\n",
              "                                                     [key], {});\n",
              "          if (!dataTable) return;\n",
              "\n",
              "          const docLinkHtml = 'Like what you see? Visit the ' +\n",
              "            '<a target=\"_blank\" href=https://colab.research.google.com/notebooks/data_table.ipynb>data table notebook</a>'\n",
              "            + ' to learn more about interactive tables.';\n",
              "          element.innerHTML = '';\n",
              "          dataTable['output_type'] = 'display_data';\n",
              "          await google.colab.output.renderOutput(dataTable, element);\n",
              "          const docLink = document.createElement('div');\n",
              "          docLink.innerHTML = docLinkHtml;\n",
              "          element.appendChild(docLink);\n",
              "        }\n",
              "      </script>\n",
              "    </div>\n",
              "  </div>\n",
              "  "
            ]
          },
          "metadata": {},
          "execution_count": 54
        }
      ]
    },
    {
      "cell_type": "code",
      "source": [
        "def tokens_to_lower(tokens):\n",
        "  for i in range(len(tokens)):\n",
        "    tokens[i] = tokens[i].lower()\n",
        "  return tokens\n",
        "\n",
        "data[\"text_tokens\"] = data[\"text_tokens\"].apply(tokens_to_lower)\n",
        "data.head()"
      ],
      "metadata": {
        "colab": {
          "base_uri": "https://localhost:8080/",
          "height": 625
        },
        "id": "MSaYP6MmLGPt",
        "outputId": "438f8412-63c3-4f59-b41a-1173b24724a6"
      },
      "execution_count": 55,
      "outputs": [
        {
          "output_type": "execute_result",
          "data": {
            "text/plain": [
              "                                                url  \\\n",
              "0  https://lenta.ru/news/2018/09/28/germany_russia/   \n",
              "1            https://lenta.ru/news/2018/09/28/maur/   \n",
              "2       https://lenta.ru/news/2018/09/28/sinkinsea/   \n",
              "3        https://lenta.ru/news/2018/09/28/kipyatok/   \n",
              "4   https://lenta.ru/news/2018/09/28/pensi_formula/   \n",
              "\n",
              "                                               title  \\\n",
              "0  Германия ответила на обвинения в зависимости о...   \n",
              "1          «Манчестер Юнайтед» нашел замену Моуринью   \n",
              "2  Пассажирский самолет промахнулся мимо посадочн...   \n",
              "3  В петербургском кафе сварились заживо двое рос...   \n",
              "4    В пенсионную систему внесут очередные изменения   \n",
              "\n",
              "                                                text        topic  \\\n",
              "0  Министр иностранных дел Германии Хайко Маас от...          Мир   \n",
              "1  Английский «Манчестер Юнайтед» рассматривает М...        Спорт   \n",
              "2  Самолет авиакомпании Air Niugini упал в море п...  Путешествия   \n",
              "3  В петербургском антикафе «Типичный Питер» в Ад...       Россия   \n",
              "4  Правительство собирается изменить формулу расч...    Экономика   \n",
              "\n",
              "           tags  date                                        text_tokens  \n",
              "0      Политика  None  [министр, иностранных, дел, германии, хайко, м...  \n",
              "1        Футбол  None  [английский, «манчестер, юнайтед», рассматрива...  \n",
              "2  Происшествия  None  [самолет, авиакомпании, air, niugini, упал, в,...  \n",
              "3      Общество  None  [в, петербургском, антикафе, «типичный, питер»...  \n",
              "4  Госэкономика  None  [правительство, собирается, изменить, формулу,...  "
            ],
            "text/html": [
              "\n",
              "  <div id=\"df-211d0250-9690-4694-a89d-ae97eff9b388\">\n",
              "    <div class=\"colab-df-container\">\n",
              "      <div>\n",
              "<style scoped>\n",
              "    .dataframe tbody tr th:only-of-type {\n",
              "        vertical-align: middle;\n",
              "    }\n",
              "\n",
              "    .dataframe tbody tr th {\n",
              "        vertical-align: top;\n",
              "    }\n",
              "\n",
              "    .dataframe thead th {\n",
              "        text-align: right;\n",
              "    }\n",
              "</style>\n",
              "<table border=\"1\" class=\"dataframe\">\n",
              "  <thead>\n",
              "    <tr style=\"text-align: right;\">\n",
              "      <th></th>\n",
              "      <th>url</th>\n",
              "      <th>title</th>\n",
              "      <th>text</th>\n",
              "      <th>topic</th>\n",
              "      <th>tags</th>\n",
              "      <th>date</th>\n",
              "      <th>text_tokens</th>\n",
              "    </tr>\n",
              "  </thead>\n",
              "  <tbody>\n",
              "    <tr>\n",
              "      <th>0</th>\n",
              "      <td>https://lenta.ru/news/2018/09/28/germany_russia/</td>\n",
              "      <td>Германия ответила на обвинения в зависимости о...</td>\n",
              "      <td>Министр иностранных дел Германии Хайко Маас от...</td>\n",
              "      <td>Мир</td>\n",
              "      <td>Политика</td>\n",
              "      <td>None</td>\n",
              "      <td>[министр, иностранных, дел, германии, хайко, м...</td>\n",
              "    </tr>\n",
              "    <tr>\n",
              "      <th>1</th>\n",
              "      <td>https://lenta.ru/news/2018/09/28/maur/</td>\n",
              "      <td>«Манчестер Юнайтед» нашел замену Моуринью</td>\n",
              "      <td>Английский «Манчестер Юнайтед» рассматривает М...</td>\n",
              "      <td>Спорт</td>\n",
              "      <td>Футбол</td>\n",
              "      <td>None</td>\n",
              "      <td>[английский, «манчестер, юнайтед», рассматрива...</td>\n",
              "    </tr>\n",
              "    <tr>\n",
              "      <th>2</th>\n",
              "      <td>https://lenta.ru/news/2018/09/28/sinkinsea/</td>\n",
              "      <td>Пассажирский самолет промахнулся мимо посадочн...</td>\n",
              "      <td>Самолет авиакомпании Air Niugini упал в море п...</td>\n",
              "      <td>Путешествия</td>\n",
              "      <td>Происшествия</td>\n",
              "      <td>None</td>\n",
              "      <td>[самолет, авиакомпании, air, niugini, упал, в,...</td>\n",
              "    </tr>\n",
              "    <tr>\n",
              "      <th>3</th>\n",
              "      <td>https://lenta.ru/news/2018/09/28/kipyatok/</td>\n",
              "      <td>В петербургском кафе сварились заживо двое рос...</td>\n",
              "      <td>В петербургском антикафе «Типичный Питер» в Ад...</td>\n",
              "      <td>Россия</td>\n",
              "      <td>Общество</td>\n",
              "      <td>None</td>\n",
              "      <td>[в, петербургском, антикафе, «типичный, питер»...</td>\n",
              "    </tr>\n",
              "    <tr>\n",
              "      <th>4</th>\n",
              "      <td>https://lenta.ru/news/2018/09/28/pensi_formula/</td>\n",
              "      <td>В пенсионную систему внесут очередные изменения</td>\n",
              "      <td>Правительство собирается изменить формулу расч...</td>\n",
              "      <td>Экономика</td>\n",
              "      <td>Госэкономика</td>\n",
              "      <td>None</td>\n",
              "      <td>[правительство, собирается, изменить, формулу,...</td>\n",
              "    </tr>\n",
              "  </tbody>\n",
              "</table>\n",
              "</div>\n",
              "      <button class=\"colab-df-convert\" onclick=\"convertToInteractive('df-211d0250-9690-4694-a89d-ae97eff9b388')\"\n",
              "              title=\"Convert this dataframe to an interactive table.\"\n",
              "              style=\"display:none;\">\n",
              "        \n",
              "  <svg xmlns=\"http://www.w3.org/2000/svg\" height=\"24px\"viewBox=\"0 0 24 24\"\n",
              "       width=\"24px\">\n",
              "    <path d=\"M0 0h24v24H0V0z\" fill=\"none\"/>\n",
              "    <path d=\"M18.56 5.44l.94 2.06.94-2.06 2.06-.94-2.06-.94-.94-2.06-.94 2.06-2.06.94zm-11 1L8.5 8.5l.94-2.06 2.06-.94-2.06-.94L8.5 2.5l-.94 2.06-2.06.94zm10 10l.94 2.06.94-2.06 2.06-.94-2.06-.94-.94-2.06-.94 2.06-2.06.94z\"/><path d=\"M17.41 7.96l-1.37-1.37c-.4-.4-.92-.59-1.43-.59-.52 0-1.04.2-1.43.59L10.3 9.45l-7.72 7.72c-.78.78-.78 2.05 0 2.83L4 21.41c.39.39.9.59 1.41.59.51 0 1.02-.2 1.41-.59l7.78-7.78 2.81-2.81c.8-.78.8-2.07 0-2.86zM5.41 20L4 18.59l7.72-7.72 1.47 1.35L5.41 20z\"/>\n",
              "  </svg>\n",
              "      </button>\n",
              "      \n",
              "  <style>\n",
              "    .colab-df-container {\n",
              "      display:flex;\n",
              "      flex-wrap:wrap;\n",
              "      gap: 12px;\n",
              "    }\n",
              "\n",
              "    .colab-df-convert {\n",
              "      background-color: #E8F0FE;\n",
              "      border: none;\n",
              "      border-radius: 50%;\n",
              "      cursor: pointer;\n",
              "      display: none;\n",
              "      fill: #1967D2;\n",
              "      height: 32px;\n",
              "      padding: 0 0 0 0;\n",
              "      width: 32px;\n",
              "    }\n",
              "\n",
              "    .colab-df-convert:hover {\n",
              "      background-color: #E2EBFA;\n",
              "      box-shadow: 0px 1px 2px rgba(60, 64, 67, 0.3), 0px 1px 3px 1px rgba(60, 64, 67, 0.15);\n",
              "      fill: #174EA6;\n",
              "    }\n",
              "\n",
              "    [theme=dark] .colab-df-convert {\n",
              "      background-color: #3B4455;\n",
              "      fill: #D2E3FC;\n",
              "    }\n",
              "\n",
              "    [theme=dark] .colab-df-convert:hover {\n",
              "      background-color: #434B5C;\n",
              "      box-shadow: 0px 1px 3px 1px rgba(0, 0, 0, 0.15);\n",
              "      filter: drop-shadow(0px 1px 2px rgba(0, 0, 0, 0.3));\n",
              "      fill: #FFFFFF;\n",
              "    }\n",
              "  </style>\n",
              "\n",
              "      <script>\n",
              "        const buttonEl =\n",
              "          document.querySelector('#df-211d0250-9690-4694-a89d-ae97eff9b388 button.colab-df-convert');\n",
              "        buttonEl.style.display =\n",
              "          google.colab.kernel.accessAllowed ? 'block' : 'none';\n",
              "\n",
              "        async function convertToInteractive(key) {\n",
              "          const element = document.querySelector('#df-211d0250-9690-4694-a89d-ae97eff9b388');\n",
              "          const dataTable =\n",
              "            await google.colab.kernel.invokeFunction('convertToInteractive',\n",
              "                                                     [key], {});\n",
              "          if (!dataTable) return;\n",
              "\n",
              "          const docLinkHtml = 'Like what you see? Visit the ' +\n",
              "            '<a target=\"_blank\" href=https://colab.research.google.com/notebooks/data_table.ipynb>data table notebook</a>'\n",
              "            + ' to learn more about interactive tables.';\n",
              "          element.innerHTML = '';\n",
              "          dataTable['output_type'] = 'display_data';\n",
              "          await google.colab.output.renderOutput(dataTable, element);\n",
              "          const docLink = document.createElement('div');\n",
              "          docLink.innerHTML = docLinkHtml;\n",
              "          element.appendChild(docLink);\n",
              "        }\n",
              "      </script>\n",
              "    </div>\n",
              "  </div>\n",
              "  "
            ]
          },
          "metadata": {},
          "execution_count": 55
        }
      ]
    },
    {
      "cell_type": "code",
      "source": [
        "#скачиваем данные со стоп-словами\n",
        "nltk.download(\"stopwords\")\n",
        "#импортируем соответсвующий модуль\n",
        "from nltk.corpus import stopwords\n",
        "#загружаем список русских стоп-слов\n",
        "russian_stopwords = stopwords.words(\"russian\")"
      ],
      "metadata": {
        "colab": {
          "base_uri": "https://localhost:8080/"
        },
        "id": "vSaXJZEvLPPO",
        "outputId": "0ffbdd38-7e75-4f0c-c222-6babae595534"
      },
      "execution_count": 56,
      "outputs": [
        {
          "output_type": "stream",
          "name": "stderr",
          "text": [
            "[nltk_data] Downloading package stopwords to /root/nltk_data...\n",
            "[nltk_data]   Package stopwords is already up-to-date!\n"
          ]
        }
      ]
    },
    {
      "cell_type": "code",
      "source": [
        "SW_LIST = russian_stopwords\n",
        "def delete_stopwords(tokens):\n",
        "  result = [t for t in tokens if t not in SW_LIST]\n",
        "  return result\n",
        "\n",
        "data[\"text_tokens\"] = data[\"text_tokens\"].apply(delete_stopwords)"
      ],
      "metadata": {
        "id": "CnyEeKt9LVPC"
      },
      "execution_count": 57,
      "outputs": []
    },
    {
      "cell_type": "code",
      "source": [
        "data.head()"
      ],
      "metadata": {
        "colab": {
          "base_uri": "https://localhost:8080/",
          "height": 625
        },
        "id": "AKKoSld2OpBq",
        "outputId": "5ef53106-7193-4406-b8c1-17e8d414f9e9"
      },
      "execution_count": 58,
      "outputs": [
        {
          "output_type": "execute_result",
          "data": {
            "text/plain": [
              "                                                url  \\\n",
              "0  https://lenta.ru/news/2018/09/28/germany_russia/   \n",
              "1            https://lenta.ru/news/2018/09/28/maur/   \n",
              "2       https://lenta.ru/news/2018/09/28/sinkinsea/   \n",
              "3        https://lenta.ru/news/2018/09/28/kipyatok/   \n",
              "4   https://lenta.ru/news/2018/09/28/pensi_formula/   \n",
              "\n",
              "                                               title  \\\n",
              "0  Германия ответила на обвинения в зависимости о...   \n",
              "1          «Манчестер Юнайтед» нашел замену Моуринью   \n",
              "2  Пассажирский самолет промахнулся мимо посадочн...   \n",
              "3  В петербургском кафе сварились заживо двое рос...   \n",
              "4    В пенсионную систему внесут очередные изменения   \n",
              "\n",
              "                                                text        topic  \\\n",
              "0  Министр иностранных дел Германии Хайко Маас от...          Мир   \n",
              "1  Английский «Манчестер Юнайтед» рассматривает М...        Спорт   \n",
              "2  Самолет авиакомпании Air Niugini упал в море п...  Путешествия   \n",
              "3  В петербургском антикафе «Типичный Питер» в Ад...       Россия   \n",
              "4  Правительство собирается изменить формулу расч...    Экономика   \n",
              "\n",
              "           tags  date                                        text_tokens  \n",
              "0      Политика  None  [министр, иностранных, дел, германии, хайко, м...  \n",
              "1        Футбол  None  [английский, «манчестер, юнайтед», рассматрива...  \n",
              "2  Происшествия  None  [самолет, авиакомпании, air, niugini, упал, мо...  \n",
              "3      Общество  None  [петербургском, антикафе, «типичный, питер», а...  \n",
              "4  Госэкономика  None  [правительство, собирается, изменить, формулу,...  "
            ],
            "text/html": [
              "\n",
              "  <div id=\"df-0b8fadb1-c21e-4af3-b42c-b7745cc798b4\">\n",
              "    <div class=\"colab-df-container\">\n",
              "      <div>\n",
              "<style scoped>\n",
              "    .dataframe tbody tr th:only-of-type {\n",
              "        vertical-align: middle;\n",
              "    }\n",
              "\n",
              "    .dataframe tbody tr th {\n",
              "        vertical-align: top;\n",
              "    }\n",
              "\n",
              "    .dataframe thead th {\n",
              "        text-align: right;\n",
              "    }\n",
              "</style>\n",
              "<table border=\"1\" class=\"dataframe\">\n",
              "  <thead>\n",
              "    <tr style=\"text-align: right;\">\n",
              "      <th></th>\n",
              "      <th>url</th>\n",
              "      <th>title</th>\n",
              "      <th>text</th>\n",
              "      <th>topic</th>\n",
              "      <th>tags</th>\n",
              "      <th>date</th>\n",
              "      <th>text_tokens</th>\n",
              "    </tr>\n",
              "  </thead>\n",
              "  <tbody>\n",
              "    <tr>\n",
              "      <th>0</th>\n",
              "      <td>https://lenta.ru/news/2018/09/28/germany_russia/</td>\n",
              "      <td>Германия ответила на обвинения в зависимости о...</td>\n",
              "      <td>Министр иностранных дел Германии Хайко Маас от...</td>\n",
              "      <td>Мир</td>\n",
              "      <td>Политика</td>\n",
              "      <td>None</td>\n",
              "      <td>[министр, иностранных, дел, германии, хайко, м...</td>\n",
              "    </tr>\n",
              "    <tr>\n",
              "      <th>1</th>\n",
              "      <td>https://lenta.ru/news/2018/09/28/maur/</td>\n",
              "      <td>«Манчестер Юнайтед» нашел замену Моуринью</td>\n",
              "      <td>Английский «Манчестер Юнайтед» рассматривает М...</td>\n",
              "      <td>Спорт</td>\n",
              "      <td>Футбол</td>\n",
              "      <td>None</td>\n",
              "      <td>[английский, «манчестер, юнайтед», рассматрива...</td>\n",
              "    </tr>\n",
              "    <tr>\n",
              "      <th>2</th>\n",
              "      <td>https://lenta.ru/news/2018/09/28/sinkinsea/</td>\n",
              "      <td>Пассажирский самолет промахнулся мимо посадочн...</td>\n",
              "      <td>Самолет авиакомпании Air Niugini упал в море п...</td>\n",
              "      <td>Путешествия</td>\n",
              "      <td>Происшествия</td>\n",
              "      <td>None</td>\n",
              "      <td>[самолет, авиакомпании, air, niugini, упал, мо...</td>\n",
              "    </tr>\n",
              "    <tr>\n",
              "      <th>3</th>\n",
              "      <td>https://lenta.ru/news/2018/09/28/kipyatok/</td>\n",
              "      <td>В петербургском кафе сварились заживо двое рос...</td>\n",
              "      <td>В петербургском антикафе «Типичный Питер» в Ад...</td>\n",
              "      <td>Россия</td>\n",
              "      <td>Общество</td>\n",
              "      <td>None</td>\n",
              "      <td>[петербургском, антикафе, «типичный, питер», а...</td>\n",
              "    </tr>\n",
              "    <tr>\n",
              "      <th>4</th>\n",
              "      <td>https://lenta.ru/news/2018/09/28/pensi_formula/</td>\n",
              "      <td>В пенсионную систему внесут очередные изменения</td>\n",
              "      <td>Правительство собирается изменить формулу расч...</td>\n",
              "      <td>Экономика</td>\n",
              "      <td>Госэкономика</td>\n",
              "      <td>None</td>\n",
              "      <td>[правительство, собирается, изменить, формулу,...</td>\n",
              "    </tr>\n",
              "  </tbody>\n",
              "</table>\n",
              "</div>\n",
              "      <button class=\"colab-df-convert\" onclick=\"convertToInteractive('df-0b8fadb1-c21e-4af3-b42c-b7745cc798b4')\"\n",
              "              title=\"Convert this dataframe to an interactive table.\"\n",
              "              style=\"display:none;\">\n",
              "        \n",
              "  <svg xmlns=\"http://www.w3.org/2000/svg\" height=\"24px\"viewBox=\"0 0 24 24\"\n",
              "       width=\"24px\">\n",
              "    <path d=\"M0 0h24v24H0V0z\" fill=\"none\"/>\n",
              "    <path d=\"M18.56 5.44l.94 2.06.94-2.06 2.06-.94-2.06-.94-.94-2.06-.94 2.06-2.06.94zm-11 1L8.5 8.5l.94-2.06 2.06-.94-2.06-.94L8.5 2.5l-.94 2.06-2.06.94zm10 10l.94 2.06.94-2.06 2.06-.94-2.06-.94-.94-2.06-.94 2.06-2.06.94z\"/><path d=\"M17.41 7.96l-1.37-1.37c-.4-.4-.92-.59-1.43-.59-.52 0-1.04.2-1.43.59L10.3 9.45l-7.72 7.72c-.78.78-.78 2.05 0 2.83L4 21.41c.39.39.9.59 1.41.59.51 0 1.02-.2 1.41-.59l7.78-7.78 2.81-2.81c.8-.78.8-2.07 0-2.86zM5.41 20L4 18.59l7.72-7.72 1.47 1.35L5.41 20z\"/>\n",
              "  </svg>\n",
              "      </button>\n",
              "      \n",
              "  <style>\n",
              "    .colab-df-container {\n",
              "      display:flex;\n",
              "      flex-wrap:wrap;\n",
              "      gap: 12px;\n",
              "    }\n",
              "\n",
              "    .colab-df-convert {\n",
              "      background-color: #E8F0FE;\n",
              "      border: none;\n",
              "      border-radius: 50%;\n",
              "      cursor: pointer;\n",
              "      display: none;\n",
              "      fill: #1967D2;\n",
              "      height: 32px;\n",
              "      padding: 0 0 0 0;\n",
              "      width: 32px;\n",
              "    }\n",
              "\n",
              "    .colab-df-convert:hover {\n",
              "      background-color: #E2EBFA;\n",
              "      box-shadow: 0px 1px 2px rgba(60, 64, 67, 0.3), 0px 1px 3px 1px rgba(60, 64, 67, 0.15);\n",
              "      fill: #174EA6;\n",
              "    }\n",
              "\n",
              "    [theme=dark] .colab-df-convert {\n",
              "      background-color: #3B4455;\n",
              "      fill: #D2E3FC;\n",
              "    }\n",
              "\n",
              "    [theme=dark] .colab-df-convert:hover {\n",
              "      background-color: #434B5C;\n",
              "      box-shadow: 0px 1px 3px 1px rgba(0, 0, 0, 0.15);\n",
              "      filter: drop-shadow(0px 1px 2px rgba(0, 0, 0, 0.3));\n",
              "      fill: #FFFFFF;\n",
              "    }\n",
              "  </style>\n",
              "\n",
              "      <script>\n",
              "        const buttonEl =\n",
              "          document.querySelector('#df-0b8fadb1-c21e-4af3-b42c-b7745cc798b4 button.colab-df-convert');\n",
              "        buttonEl.style.display =\n",
              "          google.colab.kernel.accessAllowed ? 'block' : 'none';\n",
              "\n",
              "        async function convertToInteractive(key) {\n",
              "          const element = document.querySelector('#df-0b8fadb1-c21e-4af3-b42c-b7745cc798b4');\n",
              "          const dataTable =\n",
              "            await google.colab.kernel.invokeFunction('convertToInteractive',\n",
              "                                                     [key], {});\n",
              "          if (!dataTable) return;\n",
              "\n",
              "          const docLinkHtml = 'Like what you see? Visit the ' +\n",
              "            '<a target=\"_blank\" href=https://colab.research.google.com/notebooks/data_table.ipynb>data table notebook</a>'\n",
              "            + ' to learn more about interactive tables.';\n",
              "          element.innerHTML = '';\n",
              "          dataTable['output_type'] = 'display_data';\n",
              "          await google.colab.output.renderOutput(dataTable, element);\n",
              "          const docLink = document.createElement('div');\n",
              "          docLink.innerHTML = docLinkHtml;\n",
              "          element.appendChild(docLink);\n",
              "        }\n",
              "      </script>\n",
              "    </div>\n",
              "  </div>\n",
              "  "
            ]
          },
          "metadata": {},
          "execution_count": 58
        }
      ]
    },
    {
      "cell_type": "code",
      "source": [
        "data[\"clear_text\"] = data['text_tokens'].apply(lambda x: ' '.join(x))"
      ],
      "metadata": {
        "id": "x_GSGRpmN_8j"
      },
      "execution_count": 59,
      "outputs": []
    },
    {
      "cell_type": "code",
      "source": [
        "def lemmatise(text):\n",
        "    doc = nlp(text)\n",
        "    tmp = [token.lemma_ for token in doc]\n",
        "    return tmp\n",
        "\n",
        "data[\"text_lemma\"] = data[\"clear_text\"].apply(lemmatise)\n"
      ],
      "metadata": {
        "id": "CncVB9UvL-0V"
      },
      "execution_count": 60,
      "outputs": []
    },
    {
      "cell_type": "code",
      "source": [
        "answer_6_1 = data[\"text_lemma\"][j][0]\n",
        "answer_6_1"
      ],
      "metadata": {
        "id": "MHgfC11ajIrE",
        "colab": {
          "base_uri": "https://localhost:8080/",
          "height": 37
        },
        "outputId": "cad41b03-8502-4269-aea1-e3c336b4aa1f"
      },
      "execution_count": 61,
      "outputs": [
        {
          "output_type": "execute_result",
          "data": {
            "text/plain": [
              "'график'"
            ],
            "application/vnd.google.colaboratory.intrinsic+json": {
              "type": "string"
            }
          },
          "metadata": {},
          "execution_count": 61
        }
      ]
    },
    {
      "cell_type": "markdown",
      "source": [
        "## 6.2 Обучение модели из gensim (1.5 балл)\n",
        "- Обучите модель gensim.models.Word2Vec на датасете. Размер эмбединга = 16, минимальнео число вхождения токена = 2, архитектура = SkipGram\n",
        "- Найдите токены похожие на токе, полученный в задании 6.1\n",
        "- В качетсве ответа приведите самый похожий токен и степень его похожести"
      ],
      "metadata": {
        "id": "dBWglQSajYu9"
      }
    },
    {
      "cell_type": "code",
      "source": [
        "#Обучите модель gensim.models.Word2Vec на датасете. Размер эмбединга = 16, минимальнео число вхождения токена = 2, архитектура = SkipGram\n",
        "import gensim\n",
        "\n",
        "\n",
        "our_model = gensim.models.Word2Vec(data[\"text_lemma\"], size=16, min_count=2, sg=1)"
      ],
      "metadata": {
        "id": "7wfxRkpPgeMg"
      },
      "execution_count": 62,
      "outputs": []
    },
    {
      "cell_type": "code",
      "source": [
        "our_model.most_similar(positive=[\"график\"], topn=10)"
      ],
      "metadata": {
        "colab": {
          "base_uri": "https://localhost:8080/"
        },
        "id": "byQPg7UHSceC",
        "outputId": "91a673d3-8c55-489d-aa27-47202a818692"
      },
      "execution_count": 63,
      "outputs": [
        {
          "output_type": "stream",
          "name": "stderr",
          "text": [
            "/usr/local/lib/python3.7/dist-packages/ipykernel_launcher.py:1: DeprecationWarning: Call to deprecated `most_similar` (Method will be removed in 4.0.0, use self.wv.most_similar() instead).\n",
            "  \"\"\"Entry point for launching an IPython kernel.\n"
          ]
        },
        {
          "output_type": "execute_result",
          "data": {
            "text/plain": [
              "[('традиционно', 0.9406692981719971),\n",
              " ('проработать', 0.9393860697746277),\n",
              " ('выработка', 0.9380844831466675),\n",
              " ('продолжиться', 0.9338584542274475),\n",
              " ('открываться', 0.9326115846633911),\n",
              " ('формате', 0.932073712348938),\n",
              " ('волновать', 0.9320451021194458),\n",
              " ('уже', 0.9316401481628418),\n",
              " ('регионе', 0.929138720035553),\n",
              " ('собеседование', 0.9277560114860535)]"
            ]
          },
          "metadata": {},
          "execution_count": 63
        }
      ]
    },
    {
      "cell_type": "markdown",
      "source": [
        "## №6.3 Векторное представление (1 балл)\n",
        "Выведите веткорное представление вашего ответа на задание 6.1. 15-й элемент этого веткора - ответ на на задание 6.3\n"
      ],
      "metadata": {
        "id": "R0c3JwsAm3Vb"
      }
    },
    {
      "cell_type": "code",
      "source": [
        "print(our_model.wv[\"график\"])"
      ],
      "metadata": {
        "colab": {
          "base_uri": "https://localhost:8080/"
        },
        "id": "9mRlK1v6Y0-h",
        "outputId": "d0d5c23a-d8d7-47bb-b7f8-b1b2466ecf41"
      },
      "execution_count": 64,
      "outputs": [
        {
          "output_type": "stream",
          "name": "stdout",
          "text": [
            "[-0.13610645 -0.19000138 -0.6979123  -0.33667544  0.11533355  0.52541095\n",
            "  0.7033469   0.3221423   0.00821437  0.05452824  0.7304335   0.23335792\n",
            " -0.5906231   0.30073968  0.4429635  -0.6157248 ]\n"
          ]
        }
      ]
    },
    {
      "cell_type": "code",
      "source": [
        "answer_6_3 = # ваш код тут\n",
        "answer_6_3"
      ],
      "metadata": {
        "id": "W5OeQ8XonLFR"
      },
      "execution_count": null,
      "outputs": []
    },
    {
      "cell_type": "markdown",
      "source": [
        "## 6.4 Использование предобученной модели (1.5 балл)\n",
        "- загрузите предобученны эмбединги модели word2vec-ruscorpora-300\n",
        "- Найдите слово наиболее похожее на результат вычисления \"студент_NOUN\" - ваше имя (часть речи для имени - NOUN)\n",
        "- Ответом будем слово и его степень похожести, например ('универсант_NOUN', 0.4597257971763611)"
      ],
      "metadata": {
        "id": "FdF-aotUkVb1"
      }
    },
    {
      "cell_type": "code",
      "source": [
        "import gensim.downloader as api\n",
        "word_vectors = api.load(\"word2vec-ruscorpora-300\")"
      ],
      "metadata": {
        "id": "O-8HnCutWIZ0"
      },
      "execution_count": 33,
      "outputs": []
    },
    {
      "cell_type": "code",
      "source": [
        "# Найдите слово наиболее похожее на результат вычисления \"студент_NOUN\" - ваше имя (часть речи для имени - NOUN)\n",
        "similar_words = #ваш код тут\n",
        "# Ответом будем слово и его степень похожести, например ('универсант_NOUN', 0.4597257971763611)\n",
        "answer_6_4 = similar_words[0]\n",
        "answer_6_4"
      ],
      "metadata": {
        "id": "JNy-MG4qkfQk"
      },
      "execution_count": null,
      "outputs": []
    },
    {
      "cell_type": "code",
      "source": [
        "def find_similar(plus = [], minus = [], top_n=5):\n",
        "  return word_vectors.most_similar(positive=plus, negative=minus, topn=top_n)"
      ],
      "metadata": {
        "id": "A1IBYltkckuK"
      },
      "execution_count": 35,
      "outputs": []
    },
    {
      "cell_type": "code",
      "source": [
        "find_similar(plus=[\"студент_NOUN\"], minus=[\"майя_NOUN\"])"
      ],
      "metadata": {
        "id": "R16IEpsjc0VW",
        "colab": {
          "base_uri": "https://localhost:8080/"
        },
        "outputId": "afb5675c-57cb-49ed-c5b1-ddefe271c4a5"
      },
      "execution_count": 36,
      "outputs": [
        {
          "output_type": "execute_result",
          "data": {
            "text/plain": [
              "[('универсант_NOUN', 0.4597257971763611),\n",
              " ('студенчество_NOUN', 0.4570831060409546),\n",
              " ('университет_NOUN', 0.4464452266693115),\n",
              " ('студенческий_ADJ', 0.44114354252815247),\n",
              " ('преподаватель_NOUN', 0.4403188228607178)]"
            ]
          },
          "metadata": {},
          "execution_count": 36
        }
      ]
    }
  ]
}